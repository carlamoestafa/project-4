{
 "cells": [
  {
   "cell_type": "markdown",
   "metadata": {},
   "source": [
    "# PROJECT 4 PRE-PROPCESSING"
   ]
  },
  {
   "cell_type": "code",
   "execution_count": 1,
   "metadata": {},
   "outputs": [],
   "source": [
    "from urllib import request\n",
    "from urllib.request import urlopen\n",
    "import nltk\n",
    "from nltk import pos_tag, word_tokenize\n",
    "import pandas as pd\n",
    "import re\n",
    "import numpy as np\n",
    "import string\n",
    "from unidecode import unidecode\n",
    "import string\n",
    "from stop_words import get_stop_words"
   ]
  },
  {
   "cell_type": "markdown",
   "metadata": {},
   "source": [
    "## Load, clean and split raw text into chapters"
   ]
  },
  {
   "cell_type": "code",
   "execution_count": 2,
   "metadata": {},
   "outputs": [],
   "source": [
    "# Function to convert url text bytes into string type\n",
    "def read_and_decode(url):\n",
    "    raw = urlopen(url).read()\n",
    "    raw = raw.decode(\"utf-8\")\n",
    "    return raw"
   ]
  },
  {
   "cell_type": "markdown",
   "metadata": {},
   "source": [
    "### Book 1 : Gentleman Burglar"
   ]
  },
  {
   "cell_type": "code",
   "execution_count": 3,
   "metadata": {},
   "outputs": [],
   "source": [
    "url_1 = \"https://dev.gutenberg.org/files/6133/6133-0.txt\"\n",
    "raw_1 = read_and_decode(url_1)"
   ]
  },
  {
   "cell_type": "code",
   "execution_count": 4,
   "metadata": {},
   "outputs": [
    {
     "data": {
      "text/plain": [
       "str"
      ]
     },
     "execution_count": 4,
     "metadata": {},
     "output_type": "execute_result"
    }
   ],
   "source": [
    "type(raw_1)"
   ]
  },
  {
   "cell_type": "markdown",
   "metadata": {},
   "source": [
    "The books in Gutenberg Project includes loads of line before the start and after the end of original book contents. To remove this we have to see if there is a typical pattern of the start and end of the books. While in my case, many books start with 'CHAPTER I' and  end with 'THE END', this is not a fixed pattern. So we have to manually look for those starts and ends and find their indices."
   ]
  },
  {
   "cell_type": "code",
   "execution_count": 5,
   "metadata": {},
   "outputs": [
    {
     "data": {
      "text/plain": [
       "1428"
      ]
     },
     "execution_count": 5,
     "metadata": {},
     "output_type": "execute_result"
    }
   ],
   "source": [
    "# Finding the index of the start of my book\n",
    "raw_1.find('I. The Arrest of Arsène Lupin')"
   ]
  },
  {
   "cell_type": "code",
   "execution_count": 6,
   "metadata": {},
   "outputs": [
    {
     "data": {
      "text/plain": [
       "318077"
      ]
     },
     "execution_count": 6,
     "metadata": {},
     "output_type": "execute_result"
    }
   ],
   "source": [
    "# Finding the index of the end of my book\n",
    "raw_1.rfind(\"END OF THE PROJECT GUTENBERG EBOOK THE EXTRAORDINARY ADVENTURES OF ARSÈNE LUPIN\")"
   ]
  },
  {
   "cell_type": "code",
   "execution_count": 7,
   "metadata": {},
   "outputs": [],
   "source": [
    "# Slicing the relevant part of the text\n",
    "text_1=raw_1[1428:318077]"
   ]
  },
  {
   "cell_type": "code",
   "execution_count": 8,
   "metadata": {},
   "outputs": [
    {
     "data": {
      "text/plain": [
       "1057"
      ]
     },
     "execution_count": 8,
     "metadata": {},
     "output_type": "execute_result"
    }
   ],
   "source": [
    "raw_1.find('Table of Contents')"
   ]
  },
  {
   "cell_type": "code",
   "execution_count": 9,
   "metadata": {},
   "outputs": [
    {
     "data": {
      "text/plain": [
       "'Table of Contents:     I.      The Arrest of Arsène Lupin     II.     Arsène Lupin in Prison     III.    The Escape of Arsène Lupin     IV.     The Mysterious Traveller     V.      The Queen’s Necklace     VI.     The Seven of Hearts     VII.    Madame Imbert’s Safe     VIII.   The Black Pearl     IX.     Sherlock Holmes Arrives Too Late'"
      ]
     },
     "execution_count": 9,
     "metadata": {},
     "output_type": "execute_result"
    }
   ],
   "source": [
    "toc_1 = raw_1[1057:1428].replace(\"\\r\\n\", \"\")\n",
    "toc_1"
   ]
  },
  {
   "cell_type": "code",
   "execution_count": 10,
   "metadata": {},
   "outputs": [],
   "source": [
    "text_1C1=text_1[text_1.find('I. The Arrest of Arsène Lupin'):text_1.find('II. Arsène Lupin in Prison')]"
   ]
  },
  {
   "cell_type": "code",
   "execution_count": 11,
   "metadata": {},
   "outputs": [],
   "source": [
    "text_1C2=text_1[text_1.find('II. Arsène Lupin in Prison'):text_1.find('III. The Escape of Arsène Lupin')]"
   ]
  },
  {
   "cell_type": "code",
   "execution_count": 12,
   "metadata": {},
   "outputs": [],
   "source": [
    "text_1C3=text_1[text_1.find('III. The Escape of Arsène Lupin'):text_1.find('IV. The Mysterious Traveller')]"
   ]
  },
  {
   "cell_type": "code",
   "execution_count": 13,
   "metadata": {},
   "outputs": [],
   "source": [
    "text_1C4=text_1[text_1.find('IV. The Mysterious Traveller'):text_1.find('V. The Queen’s Necklace')]"
   ]
  },
  {
   "cell_type": "code",
   "execution_count": 14,
   "metadata": {},
   "outputs": [],
   "source": [
    "text_1C5=text_1[text_1.find('V. The Queen’s Necklace'):text_1.find('VI. The Seven of Hearts')]"
   ]
  },
  {
   "cell_type": "code",
   "execution_count": 15,
   "metadata": {},
   "outputs": [],
   "source": [
    "text_1C6=text_1[text_1.find('VI. The Seven of Hearts'):text_1.find('VII. Madame Imbert’s Safe')]"
   ]
  },
  {
   "cell_type": "code",
   "execution_count": 16,
   "metadata": {},
   "outputs": [],
   "source": [
    "text_1C7=text_1[text_1.find('VII. Madame Imbert’s Safe'):text_1.find('VIII. The Black Pearl')]"
   ]
  },
  {
   "cell_type": "code",
   "execution_count": 17,
   "metadata": {},
   "outputs": [],
   "source": [
    "text_1C8=text_1[text_1.find('VIII. The Black Pearl'):text_1.find('IX. Sherlock Holmes Arrives Too Late')]"
   ]
  },
  {
   "cell_type": "code",
   "execution_count": 18,
   "metadata": {},
   "outputs": [],
   "source": [
    "text_1C9=text_1[text_1.find('IX. Sherlock Holmes Arrives Too Late')::]"
   ]
  },
  {
   "cell_type": "code",
   "execution_count": 19,
   "metadata": {},
   "outputs": [],
   "source": [
    "raw_text_1 = [text_1C1, text_1C2,text_1C3, text_1C4,text_1C5, text_1C6,text_1C7, text_1C8, text_1C9]\n",
    "raw_book_1 = pd.DataFrame({'title':'gentleman_burglar', \n",
    "                           'chapter':['01','02','03','04','05','06','07','08','09'],\n",
    "                           'text' : raw_text_1})\n",
    "raw_book_1.to_csv('data/raw_book_1.csv')"
   ]
  },
  {
   "cell_type": "markdown",
   "metadata": {},
   "source": [
    "### Book 2 : Arsène Lupin vs Herlock Sholmes"
   ]
  },
  {
   "cell_type": "code",
   "execution_count": 20,
   "metadata": {},
   "outputs": [],
   "source": [
    "url_2 = \"https://dev.gutenberg.org/cache/epub/40203/pg40203.txt\"\n",
    "raw_2 = read_and_decode(url_2)"
   ]
  },
  {
   "cell_type": "code",
   "execution_count": 21,
   "metadata": {},
   "outputs": [
    {
     "data": {
      "text/plain": [
       "1326"
      ]
     },
     "execution_count": 21,
     "metadata": {},
     "output_type": "execute_result"
    }
   ],
   "source": [
    "raw_2.find('On the eighth day of last December')"
   ]
  },
  {
   "cell_type": "code",
   "execution_count": 22,
   "metadata": {},
   "outputs": [
    {
     "data": {
      "text/plain": [
       "1297"
      ]
     },
     "execution_count": 22,
     "metadata": {},
     "output_type": "execute_result"
    }
   ],
   "source": [
    "raw_2.find('LOTTERY TICKET NO. 514.')"
   ]
  },
  {
   "cell_type": "code",
   "execution_count": 23,
   "metadata": {},
   "outputs": [
    {
     "data": {
      "text/plain": [
       "361215"
      ]
     },
     "execution_count": 23,
     "metadata": {},
     "output_type": "execute_result"
    }
   ],
   "source": [
    "raw_2.rfind('THE END.')"
   ]
  },
  {
   "cell_type": "code",
   "execution_count": 24,
   "metadata": {},
   "outputs": [],
   "source": [
    "text_2 = raw_2[1283:361215]"
   ]
  },
  {
   "cell_type": "code",
   "execution_count": 25,
   "metadata": {},
   "outputs": [
    {
     "data": {
      "text/plain": [
       "'CONTENTS   CHAPTER I. Lottery Ticket No. 514   CHAPTER II. The Blue Diamond   CHAPTER III. Herlock Sholmes Opens Hostilities   CHAPTER IV. Light in the Darkness   CHAPTER V. An Abduction   CHAPTER VI. Second Arrest of Arsène Lupin   CHAPTER VII. The Jewish Lamp   CHAPTER VIII. The ShipwreckCHAPTER I.'"
      ]
     },
     "execution_count": 25,
     "metadata": {},
     "output_type": "execute_result"
    }
   ],
   "source": [
    "toc_2 = raw_2[962:raw_2.find('LOTTERY TICKET NO. 514.')].replace(\"\\r\\n\", \"\")\n",
    "toc_2"
   ]
  },
  {
   "cell_type": "code",
   "execution_count": 26,
   "metadata": {},
   "outputs": [],
   "source": [
    "text_2C1=text_2[text_2.find('CHAPTER I.'):text_2.find('CHAPTER II.')]"
   ]
  },
  {
   "cell_type": "code",
   "execution_count": 27,
   "metadata": {},
   "outputs": [],
   "source": [
    "text_2C2=text_2[text_2.find('CHAPTER II.'):text_2.find('CHAPTER III.')]"
   ]
  },
  {
   "cell_type": "code",
   "execution_count": 28,
   "metadata": {},
   "outputs": [],
   "source": [
    "text_2C3=text_2[text_2.find('CHAPTER III.'):text_2.find('CHAPTER IV.')]"
   ]
  },
  {
   "cell_type": "code",
   "execution_count": 29,
   "metadata": {},
   "outputs": [],
   "source": [
    "text_2C4=text_2[text_2.find('CHAPTER IV.'):text_2.find('CHAPTER V.')]"
   ]
  },
  {
   "cell_type": "code",
   "execution_count": 30,
   "metadata": {},
   "outputs": [],
   "source": [
    "text_2C5=text_2[text_2.find('CHAPTER V.'):text_2.find('CHAPTER VI.')]"
   ]
  },
  {
   "cell_type": "code",
   "execution_count": 31,
   "metadata": {},
   "outputs": [],
   "source": [
    "text_2C6=text_2[text_2.find('CHAPTER VI.'):text_2.find('CHAPTER VII.')]"
   ]
  },
  {
   "cell_type": "code",
   "execution_count": 32,
   "metadata": {},
   "outputs": [],
   "source": [
    "text_2C7=text_2[text_2.find('CHAPTER VII.'):text_2.find('CHAPTER VIII.')]"
   ]
  },
  {
   "cell_type": "code",
   "execution_count": 33,
   "metadata": {},
   "outputs": [],
   "source": [
    "text_2C8=text_2[text_2.find('CHAPTER VIII.')::]"
   ]
  },
  {
   "cell_type": "code",
   "execution_count": 34,
   "metadata": {},
   "outputs": [],
   "source": [
    "raw_text_2 = [text_2C1, text_2C2,text_2C3, text_2C4,text_2C5, text_2C6,text_2C7, text_2C8]\n",
    "raw_book_2 = pd.DataFrame({'title':'arsene_lupin_vs_herlock_sholmes', \n",
    "                           'chapter':['01','02','03','04','05','06','07','08'],\n",
    "                           'text' : raw_text_2})\n",
    "raw_book_2.to_csv('data/raw_book_2.csv')"
   ]
  },
  {
   "cell_type": "markdown",
   "metadata": {},
   "source": [
    "### Book 3: The Hollow Needle"
   ]
  },
  {
   "cell_type": "code",
   "execution_count": 35,
   "metadata": {},
   "outputs": [],
   "source": [
    "url_3 = \"https://dev.gutenberg.org/cache/epub/4017/pg4017.txt\"\n",
    "raw_3 =  read_and_decode(url_3)"
   ]
  },
  {
   "cell_type": "code",
   "execution_count": 36,
   "metadata": {},
   "outputs": [],
   "source": [
    "text_3 = raw_3[raw_3.find('CHAPTER ONE'):raw_3.rfind('THE END')]"
   ]
  },
  {
   "cell_type": "code",
   "execution_count": 37,
   "metadata": {},
   "outputs": [],
   "source": [
    "text_3C1 = text_3[text_3.find('CHAPTER ONE'):text_3.find('CHAPTER TWO')]"
   ]
  },
  {
   "cell_type": "code",
   "execution_count": 38,
   "metadata": {},
   "outputs": [],
   "source": [
    "text_3C2 = text_3[text_3.find('CHAPTER TWO'):text_3.find('CHAPTER THREE')]"
   ]
  },
  {
   "cell_type": "code",
   "execution_count": 39,
   "metadata": {},
   "outputs": [],
   "source": [
    "text_3C3 = text_3[text_3.find('CHAPTER THREE'):text_3.find('CHAPTER FOUR')]"
   ]
  },
  {
   "cell_type": "code",
   "execution_count": 40,
   "metadata": {},
   "outputs": [],
   "source": [
    "text_3C4 = text_3[text_3.find('CHAPTER FOUR'):text_3.find('CHAPTER FIVE')]"
   ]
  },
  {
   "cell_type": "code",
   "execution_count": 41,
   "metadata": {},
   "outputs": [],
   "source": [
    "text_3C5 = text_3[text_3.find('CHAPTER FIVE'):text_3.find('CHAPTER SIX')]"
   ]
  },
  {
   "cell_type": "code",
   "execution_count": 42,
   "metadata": {},
   "outputs": [],
   "source": [
    "text_3C6 = text_3[text_3.find('CHAPTER SIX'):text_3.find('CHAPTER SEVEN')]"
   ]
  },
  {
   "cell_type": "code",
   "execution_count": 43,
   "metadata": {},
   "outputs": [],
   "source": [
    "text_3C7 = text_3[text_3.find('CHAPTER SEVEN'):text_3.find('CHAPTER EIGHT')]"
   ]
  },
  {
   "cell_type": "code",
   "execution_count": 44,
   "metadata": {},
   "outputs": [],
   "source": [
    "text_3C8 = text_3[text_3.find('CHAPTER EIGHT'):text_3.find('CHAPTER NINE')]"
   ]
  },
  {
   "cell_type": "code",
   "execution_count": 45,
   "metadata": {},
   "outputs": [],
   "source": [
    "text_3C9 = text_3[text_3.find('CHAPTER NINE'):text_3.find('CHAPTER TEN')]"
   ]
  },
  {
   "cell_type": "code",
   "execution_count": 46,
   "metadata": {},
   "outputs": [],
   "source": [
    "text_3C10 = text_3[text_3.find('CHAPTER TEN')::]"
   ]
  },
  {
   "cell_type": "code",
   "execution_count": 47,
   "metadata": {},
   "outputs": [],
   "source": [
    "raw_text_3 = [text_3C1, text_3C2,text_3C3, text_3C4,text_3C5,\n",
    "              text_3C6,text_3C7, text_3C8, text_3C9, text_3C10]\n",
    "raw_book_3 = pd.DataFrame({'title':'the_hollow_needle', \n",
    "                           'chapter':['01','02','03','04','05','06','07','08','09','C10'],\n",
    "                           'text' : raw_text_3})\n",
    "raw_book_3.to_csv('data/raw_book_3.csv')"
   ]
  },
  {
   "cell_type": "markdown",
   "metadata": {},
   "source": [
    "### Book 4: The Blonde Lady "
   ]
  },
  {
   "cell_type": "code",
   "execution_count": 48,
   "metadata": {},
   "outputs": [],
   "source": [
    "url_4 = \"https://dev.gutenberg.org/cache/epub/24839/pg24839.txt\"\n",
    "raw_4 = read_and_decode(url_4)"
   ]
  },
  {
   "cell_type": "code",
   "execution_count": 49,
   "metadata": {},
   "outputs": [],
   "source": [
    "text_4 = raw_4[raw_4.find('CHAPTER I'):raw_4.rfind('***END OF THE PROJECT')]"
   ]
  },
  {
   "cell_type": "code",
   "execution_count": 50,
   "metadata": {},
   "outputs": [],
   "source": [
    "text_4C1 = raw_4[raw_4.find('CHAPTER I'):raw_4.find('CHAPTER II')]"
   ]
  },
  {
   "cell_type": "code",
   "execution_count": 51,
   "metadata": {},
   "outputs": [],
   "source": [
    "text_4C2 = raw_4[raw_4.find('CHAPTER II'):raw_4.find('CHAPTER III')]"
   ]
  },
  {
   "cell_type": "code",
   "execution_count": 52,
   "metadata": {},
   "outputs": [],
   "source": [
    "text_4C3 = raw_4[raw_4.find('CHAPTER III'):raw_4.find('CHAPTER IV')]"
   ]
  },
  {
   "cell_type": "code",
   "execution_count": 53,
   "metadata": {},
   "outputs": [],
   "source": [
    "text_4C4 = raw_4[raw_4.find('CHAPTER IV'):raw_4.find('CHAPTER V')]"
   ]
  },
  {
   "cell_type": "code",
   "execution_count": 54,
   "metadata": {},
   "outputs": [],
   "source": [
    "text_4C5 = raw_4[raw_4.find('CHAPTER V'):raw_4.find('CHAPTER VI')]"
   ]
  },
  {
   "cell_type": "code",
   "execution_count": 55,
   "metadata": {},
   "outputs": [],
   "source": [
    "text_4C6 = raw_4[raw_4.find('CHAPTER VI'):raw_4.find('CHAPTER VII')]"
   ]
  },
  {
   "cell_type": "code",
   "execution_count": 56,
   "metadata": {},
   "outputs": [],
   "source": [
    "text_4C7 = raw_4[raw_4.find('Holmlock Shears and Wilson were seated'):raw_4.find('On his bench, Lupin slept....')] + 'On his bench, Lupin slept....' "
   ]
  },
  {
   "cell_type": "code",
   "execution_count": 57,
   "metadata": {},
   "outputs": [],
   "source": [
    "raw_text_4 = [text_4C1, text_4C2,text_4C3, text_4C4,text_4C5, text_4C6,text_4C7]\n",
    "raw_book_4 = pd.DataFrame({'title':'the_blonde_lady', \n",
    "                           'chapter':['01','02','03','04','05','06','07'],\n",
    "                           'text' : raw_text_4})\n",
    "raw_book_4.to_csv('data/raw_book_4.csv')\n"
   ]
  },
  {
   "cell_type": "markdown",
   "metadata": {},
   "source": [
    "### Book 5: The Frontier"
   ]
  },
  {
   "cell_type": "code",
   "execution_count": 58,
   "metadata": {},
   "outputs": [],
   "source": [
    "url_5 = \"https://dev.gutenberg.org/cache/epub/28480/pg28480.txt\"\n",
    "raw_5 = read_and_decode(url_5)"
   ]
  },
  {
   "cell_type": "code",
   "execution_count": 59,
   "metadata": {},
   "outputs": [],
   "source": [
    "text_5 = raw_5[raw_5.find('CHAPTER I'):raw_5.rfind('THE END')]"
   ]
  },
  {
   "cell_type": "markdown",
   "metadata": {},
   "source": [
    "### Book 6: The Crystal Stopper"
   ]
  },
  {
   "cell_type": "code",
   "execution_count": 60,
   "metadata": {},
   "outputs": [],
   "source": [
    "url_6 =\"https://dev.gutenberg.org/files/1563/1563-0.txt\"\n",
    "raw_6 = read_and_decode(url_6)"
   ]
  },
  {
   "cell_type": "code",
   "execution_count": 61,
   "metadata": {},
   "outputs": [],
   "source": [
    "text_6 = raw_6[raw_6.find('CHAPTER I'):raw_6.rfind('End of the Project Gutenberg')]"
   ]
  },
  {
   "cell_type": "code",
   "execution_count": 62,
   "metadata": {},
   "outputs": [
    {
     "data": {
      "text/plain": [
       "13"
      ]
     },
     "execution_count": 62,
     "metadata": {},
     "output_type": "execute_result"
    }
   ],
   "source": [
    "text_6.count('CHAPTER')"
   ]
  },
  {
   "cell_type": "code",
   "execution_count": 63,
   "metadata": {},
   "outputs": [],
   "source": [
    "text_6C1=text_6[text_6.find('CHAPTER I'):text_6.find('CHAPTER II')]"
   ]
  },
  {
   "cell_type": "code",
   "execution_count": 64,
   "metadata": {},
   "outputs": [],
   "source": [
    "text_6C2=text_6[text_6.find('CHAPTER II'):text_6.find('CHAPTER III')]"
   ]
  },
  {
   "cell_type": "code",
   "execution_count": 65,
   "metadata": {},
   "outputs": [],
   "source": [
    "text_6C3=text_6[text_6.find('CHAPTER III'):text_6.find('CHAPTER IV')]"
   ]
  },
  {
   "cell_type": "code",
   "execution_count": 66,
   "metadata": {},
   "outputs": [],
   "source": [
    "text_6C4=text_6[text_6.find('CHAPTER IV'):text_6.find('CHAPTER V')]"
   ]
  },
  {
   "cell_type": "code",
   "execution_count": 67,
   "metadata": {},
   "outputs": [],
   "source": [
    "text_6C5=text_6[text_6.find('CHAPTER V'):text_6.find('CHAPTER VI')]"
   ]
  },
  {
   "cell_type": "code",
   "execution_count": 68,
   "metadata": {},
   "outputs": [],
   "source": [
    "text_6C6=text_6[text_6.find('CHAPTER VI'):text_6.find('CHAPTER VII')]"
   ]
  },
  {
   "cell_type": "code",
   "execution_count": 69,
   "metadata": {},
   "outputs": [],
   "source": [
    "text_6C7=text_6[text_6.find('CHAPTER VII'):text_6.find('CHAPTER VIII')]"
   ]
  },
  {
   "cell_type": "code",
   "execution_count": 70,
   "metadata": {},
   "outputs": [],
   "source": [
    "text_6C8=text_6[text_6.find('CHAPTER VIII'):text_6.find('CHAPTER IX')]"
   ]
  },
  {
   "cell_type": "code",
   "execution_count": 71,
   "metadata": {},
   "outputs": [],
   "source": [
    "text_6C9=text_6[text_6.find('CHAPTER IX'):text_6.find('CHAPTER X')]"
   ]
  },
  {
   "cell_type": "code",
   "execution_count": 72,
   "metadata": {},
   "outputs": [],
   "source": [
    "text_6C10=text_6[text_6.find('CHAPTER X'):text_6.find('CHAPTER XI')]"
   ]
  },
  {
   "cell_type": "code",
   "execution_count": 73,
   "metadata": {},
   "outputs": [],
   "source": [
    "text_6C11=text_6[text_6.find('CHAPTER XI'):text_6.find('CHAPTER XII')]"
   ]
  },
  {
   "cell_type": "code",
   "execution_count": 74,
   "metadata": {},
   "outputs": [],
   "source": [
    "text_6C12=text_6[text_6.find('CHAPTER XII'):text_6.find('CHAPTER XIII')]"
   ]
  },
  {
   "cell_type": "code",
   "execution_count": 75,
   "metadata": {},
   "outputs": [],
   "source": [
    "text_6C13=text_6[text_6.find('CHAPTER XIII')::]"
   ]
  },
  {
   "cell_type": "code",
   "execution_count": 76,
   "metadata": {},
   "outputs": [],
   "source": [
    "raw_text_6 = [text_6C1, text_6C2,text_6C3, text_6C4,text_6C5, text_6C6,text_6C7, text_6C8,\n",
    "              text_6C9, text_6C10,text_6C11, text_6C12,text_6C13]\n",
    "raw_book_6 = pd.DataFrame({'title':'the_crystal_stopper', \n",
    "                           'chapter':['01','02','03','04','05','06','07',\n",
    "                                      '08','09','10','11','12','13'],\n",
    "                           'text' : raw_text_6})\n",
    "raw_book_6.to_csv('data/raw_book_6.csv')"
   ]
  },
  {
   "cell_type": "markdown",
   "metadata": {},
   "source": [
    "### Book 7: The Confessions of Arsène Lupin"
   ]
  },
  {
   "cell_type": "code",
   "execution_count": 77,
   "metadata": {},
   "outputs": [],
   "source": [
    "url_7 = \"https://dev.gutenberg.org/cache/epub/28093/pg28093.txt\"\n",
    "raw_7 =  read_and_decode(url_7)"
   ]
  },
  {
   "cell_type": "code",
   "execution_count": 78,
   "metadata": {},
   "outputs": [
    {
     "data": {
      "text/plain": [
       "2040"
      ]
     },
     "execution_count": 78,
     "metadata": {},
     "output_type": "execute_result"
    }
   ],
   "source": [
    "raw_7.find('\"Lupin,\" I said,')"
   ]
  },
  {
   "cell_type": "code",
   "execution_count": 79,
   "metadata": {},
   "outputs": [],
   "source": [
    "text_7 = raw_7[raw_7.find('\"Lupin,\" I said,'):raw_7.find(\"End of Project Gutenberg's The Confessions\")]"
   ]
  },
  {
   "cell_type": "code",
   "execution_count": 80,
   "metadata": {},
   "outputs": [],
   "source": [
    "text_7C1 = raw_7[raw_7.find('\"Lupin,\" I said,'):raw_7.find('nor the other!...')] + 'nor the other!...'"
   ]
  },
  {
   "cell_type": "code",
   "execution_count": 81,
   "metadata": {},
   "outputs": [],
   "source": [
    "text_7C2= raw_7[raw_7.find(\"Yvonne d'Origny kissed her\"):raw_7.find('her back her son!\"')] + 'her back her son!\"'"
   ]
  },
  {
   "cell_type": "code",
   "execution_count": 82,
   "metadata": {},
   "outputs": [],
   "source": [
    "text_7C3= raw_7[raw_7.find('I received your telegram'):raw_7.find('Oh, gratitude!... All humbug!... ')] + '\"Oh, gratitude!... All humbug!... Where should we honest men be if we had not our conscience and the satisfaction of duty performed to reward us?\"'"
   ]
  },
  {
   "cell_type": "code",
   "execution_count": 83,
   "metadata": {},
   "outputs": [],
   "source": [
    "text_7C4= raw_7[raw_7.find('When the race was over'):raw_7.find('after all!\" he muttered.')] + 'after all!\" he muttered.'"
   ]
  },
  {
   "cell_type": "code",
   "execution_count": 84,
   "metadata": {},
   "outputs": [],
   "source": [
    "text_7C5= raw_7[raw_7.find('On leaving his house'):raw_7.find('sincerely yours,')] + \"sincerely yours, 'Arsène Lupin'\""
   ]
  },
  {
   "cell_type": "code",
   "execution_count": 85,
   "metadata": {},
   "outputs": [],
   "source": [
    "text_7C6= raw_7[raw_7.find('After he had been round'):raw_7.find('Ganimard will be!')] + 'Ganimard will be!'"
   ]
  },
  {
   "cell_type": "code",
   "execution_count": 86,
   "metadata": {},
   "outputs": [],
   "source": [
    "text_7C7= raw_7[raw_7.find('The village was terror-stricken'):raw_7.find('philosopher, gravely')] + 'philosopher, gravely meditating.'"
   ]
  },
  {
   "cell_type": "code",
   "execution_count": 87,
   "metadata": {},
   "outputs": [],
   "source": [
    "text_7C8= raw_7[raw_7.find('\"Monsieur Arsène Lupin has the honour'):raw_7.find('francs each.')] + 'francs each.'"
   ]
  },
  {
   "cell_type": "code",
   "execution_count": 88,
   "metadata": {},
   "outputs": [],
   "source": [
    "text_7C9= raw_7[raw_7.find('One day, at about four'):raw_7.find('Trainard that means wealth.')] + 'Trainard that means wealth.'"
   ]
  },
  {
   "cell_type": "code",
   "execution_count": 89,
   "metadata": {},
   "outputs": [],
   "source": [
    "text_7C10= raw_7[raw_7.find(\"Arsène Lupin, what's your real opinion of Inspector Ganimard?\"):raw_7.find('of my sincere friendship.')] + 'of my sincere friendship.\"ARSÈNE LUPIN\"'"
   ]
  },
  {
   "cell_type": "code",
   "execution_count": 90,
   "metadata": {},
   "outputs": [],
   "source": [
    "raw_text_7 = [text_7C1, text_7C2,text_7C3, text_7C4,text_7C5,\n",
    "              text_7C6,text_7C7, text_7C8, text_7C9, text_7C10]\n",
    "raw_book_7 = pd.DataFrame({'title':'the_confessions_of_arsene_lupin', \n",
    "                           'chapter':['01','02','03','04','05','06','07','08','09','10'],\n",
    "                           'text' : raw_text_7})\n",
    "raw_book_7.to_csv('data/raw_book_7.csv')"
   ]
  },
  {
   "cell_type": "markdown",
   "metadata": {},
   "source": [
    "### Book 8: The Teeth of The Tiger"
   ]
  },
  {
   "cell_type": "code",
   "execution_count": 91,
   "metadata": {},
   "outputs": [],
   "source": [
    "url_8 = \"https://dev.gutenberg.org/cache/epub/13058/pg13058.txt\"\n",
    "raw_8 = read_and_decode(url_8)"
   ]
  },
  {
   "cell_type": "code",
   "execution_count": 92,
   "metadata": {},
   "outputs": [],
   "source": [
    "text_8 = raw_8[raw_8.find('CHAPTER ONE'):raw_8.rfind('THE END')]"
   ]
  },
  {
   "cell_type": "markdown",
   "metadata": {},
   "source": [
    "### Book 9: The Woman of Mistery"
   ]
  },
  {
   "cell_type": "code",
   "execution_count": 93,
   "metadata": {},
   "outputs": [],
   "source": [
    "url_9 = \"https://dev.gutenberg.org/cache/epub/34931/pg34931.txt\"\n",
    "raw_9 =  read_and_decode(url_9)"
   ]
  },
  {
   "cell_type": "code",
   "execution_count": 94,
   "metadata": {},
   "outputs": [],
   "source": [
    "text_9 = raw_9[raw_9.find('CHAPTER I'):raw_9.rfind('THE END')]"
   ]
  },
  {
   "cell_type": "code",
   "execution_count": 95,
   "metadata": {},
   "outputs": [
    {
     "data": {
      "text/plain": [
       "20"
      ]
     },
     "execution_count": 95,
     "metadata": {},
     "output_type": "execute_result"
    }
   ],
   "source": [
    "text_9.count('CHAPTER')"
   ]
  },
  {
   "cell_type": "markdown",
   "metadata": {},
   "source": [
    "### Book 10 The Double Life of Arsène Lupin"
   ]
  },
  {
   "cell_type": "code",
   "execution_count": 96,
   "metadata": {},
   "outputs": [],
   "source": [
    "url_10 = \"https://dev.gutenberg.org/files/34758/34758-0.txt\"\n",
    "raw_10 = read_and_decode(url_10)"
   ]
  },
  {
   "cell_type": "code",
   "execution_count": 97,
   "metadata": {},
   "outputs": [],
   "source": [
    "text_10 = raw_10[raw_10.find('CHAPTER I'):raw_10.rfind('THE END')]"
   ]
  },
  {
   "cell_type": "code",
   "execution_count": 98,
   "metadata": {},
   "outputs": [
    {
     "data": {
      "text/plain": [
       "16"
      ]
     },
     "execution_count": 98,
     "metadata": {},
     "output_type": "execute_result"
    }
   ],
   "source": [
    "text_10.count('CHAPTER')"
   ]
  },
  {
   "cell_type": "code",
   "execution_count": 99,
   "metadata": {},
   "outputs": [],
   "source": [
    "text_10C1=text_10[text_10.find('CHAPTER I'):text_10.find('CHAPTER II')]"
   ]
  },
  {
   "cell_type": "code",
   "execution_count": 100,
   "metadata": {},
   "outputs": [],
   "source": [
    "text_10C2=text_10[text_10.find('CHAPTER II'):text_10.find('CHAPTER III')]"
   ]
  },
  {
   "cell_type": "code",
   "execution_count": 101,
   "metadata": {},
   "outputs": [],
   "source": [
    "text_10C3=text_10[text_10.find('CHAPTER III'):text_10.find('CHAPTER IV')]"
   ]
  },
  {
   "cell_type": "code",
   "execution_count": 102,
   "metadata": {},
   "outputs": [],
   "source": [
    "text_10C4=text_10[text_10.find('CHAPTER IV'):text_10.find('CHAPTER V')]"
   ]
  },
  {
   "cell_type": "code",
   "execution_count": 103,
   "metadata": {},
   "outputs": [],
   "source": [
    "text_10C5=text_10[text_10.find('CHAPTER V'):text_10.find('CHAPTER VI')]"
   ]
  },
  {
   "cell_type": "code",
   "execution_count": 104,
   "metadata": {},
   "outputs": [],
   "source": [
    "text_10C6=text_10[text_10.find('CHAPTER VI'):text_10.find('CHAPTER VII')]"
   ]
  },
  {
   "cell_type": "code",
   "execution_count": 105,
   "metadata": {},
   "outputs": [],
   "source": [
    "text_10C7=text_10[text_10.find('CHAPTER VII'):text_10.find('CHAPTER VIII')]"
   ]
  },
  {
   "cell_type": "code",
   "execution_count": 106,
   "metadata": {},
   "outputs": [],
   "source": [
    "text_10C8=text_10[text_10.find('CHAPTER VIII'):text_10.find('CHAPTER IX')]"
   ]
  },
  {
   "cell_type": "code",
   "execution_count": 107,
   "metadata": {},
   "outputs": [],
   "source": [
    "text_10C9=text_10[text_10.find('CHAPTER IX'):text_10.find('CHAPTER X')]"
   ]
  },
  {
   "cell_type": "code",
   "execution_count": 108,
   "metadata": {},
   "outputs": [],
   "source": [
    "text_10C10=text_10[text_10.find('CHAPTER X'):text_10.find('CHAPTER XI')]"
   ]
  },
  {
   "cell_type": "code",
   "execution_count": 109,
   "metadata": {},
   "outputs": [],
   "source": [
    "text_10C11=text_10[text_10.find('CHAPTER XI'):text_10.find('CHAPTER XII')]"
   ]
  },
  {
   "cell_type": "code",
   "execution_count": 110,
   "metadata": {},
   "outputs": [],
   "source": [
    "text_10C12=text_10[text_10.find('CHAPTER XII'):text_10.find('CHAPTER XIII')]"
   ]
  },
  {
   "cell_type": "code",
   "execution_count": 111,
   "metadata": {},
   "outputs": [],
   "source": [
    "text_10C13=text_10[text_10.find('CHAPTER XIII'):text_10.find('CHAPTER XIV')]"
   ]
  },
  {
   "cell_type": "code",
   "execution_count": 112,
   "metadata": {},
   "outputs": [],
   "source": [
    "text_10C14=text_10[text_10.find('CHAPTER XIV'):text_10.find('CHAPTER XV')]"
   ]
  },
  {
   "cell_type": "code",
   "execution_count": 113,
   "metadata": {},
   "outputs": [],
   "source": [
    "text_10C15=text_10[text_10.find('CHAPTER XV'):text_10.find('CHAPTER XVI')]"
   ]
  },
  {
   "cell_type": "code",
   "execution_count": 114,
   "metadata": {},
   "outputs": [],
   "source": [
    "text_10C16=text_10[text_10.find('CHAPTER XVI')::]"
   ]
  },
  {
   "cell_type": "code",
   "execution_count": 115,
   "metadata": {},
   "outputs": [],
   "source": [
    "raw_text_10 = [text_10C1, text_10C2,text_10C3, text_10C4,text_10C5, text_10C6,text_10C7, text_10C8,\n",
    "              text_10C9, text_10C10,text_10C11, text_10C12,text_10C13, text_10C14,text_10C15, text_10C16 ]\n",
    "raw_book_10 = pd.DataFrame({'title':'the_double_life_of_arsene_lupin', \n",
    "                           'chapter':['01','02','03','04','05','06','07','08',\n",
    "                                      '09','10','11','12','13','14','15','16'],\n",
    "                           'text' : raw_text_10})\n",
    "raw_book_10.to_csv('data/raw_book_10.csv')"
   ]
  },
  {
   "cell_type": "markdown",
   "metadata": {},
   "source": [
    "### Book 11: The Secret of Sarek"
   ]
  },
  {
   "cell_type": "code",
   "execution_count": 116,
   "metadata": {},
   "outputs": [],
   "source": [
    "url_11 = \"https://dev.gutenberg.org/cache/epub/34939/pg34939.txt\"\n",
    "raw_11 = read_and_decode(url_11)"
   ]
  },
  {
   "cell_type": "code",
   "execution_count": 117,
   "metadata": {},
   "outputs": [],
   "source": [
    "text_11 = raw_11[raw_11.find('CHAPTER I'):raw_11.rfind('THE END')]"
   ]
  },
  {
   "cell_type": "code",
   "execution_count": 118,
   "metadata": {},
   "outputs": [
    {
     "data": {
      "text/plain": [
       "18"
      ]
     },
     "execution_count": 118,
     "metadata": {},
     "output_type": "execute_result"
    }
   ],
   "source": [
    "text_11.count('CHAPTER')"
   ]
  },
  {
   "cell_type": "code",
   "execution_count": 119,
   "metadata": {},
   "outputs": [],
   "source": [
    "text_11C1=text_11[text_11.find('CHAPTER I'):text_11.find('CHAPTER II')]"
   ]
  },
  {
   "cell_type": "code",
   "execution_count": 120,
   "metadata": {},
   "outputs": [],
   "source": [
    "text_11C2=text_11[text_11.find('CHAPTER II'):text_11.find('CHAPTER III')]"
   ]
  },
  {
   "cell_type": "code",
   "execution_count": 121,
   "metadata": {},
   "outputs": [],
   "source": [
    "text_11C3=text_11[text_11.find('CHAPTER III'):text_11.find('CHAPTER IV')]"
   ]
  },
  {
   "cell_type": "code",
   "execution_count": 122,
   "metadata": {},
   "outputs": [],
   "source": [
    "text_11C4=text_11[text_11.find('CHAPTER IV'):text_11.find('CHAPTER V')]"
   ]
  },
  {
   "cell_type": "code",
   "execution_count": 123,
   "metadata": {},
   "outputs": [],
   "source": [
    "text_11C5=text_11[text_11.find('CHAPTER V'):text_11.find('CHAPTER VI')]"
   ]
  },
  {
   "cell_type": "code",
   "execution_count": 124,
   "metadata": {},
   "outputs": [],
   "source": [
    "text_11C6=text_11[text_11.find('CHAPTER VI'):text_11.find('CHAPTER VII')]"
   ]
  },
  {
   "cell_type": "code",
   "execution_count": 125,
   "metadata": {},
   "outputs": [],
   "source": [
    "text_11C7=text_11[text_11.find('CHAPTER VII'):text_11.find('CHAPTER VIII')]"
   ]
  },
  {
   "cell_type": "code",
   "execution_count": 126,
   "metadata": {},
   "outputs": [],
   "source": [
    "text_11C8=text_11[text_11.find('CHAPTER VIII'):text_11.find('CHAPTER IX')]"
   ]
  },
  {
   "cell_type": "code",
   "execution_count": 127,
   "metadata": {},
   "outputs": [],
   "source": [
    "text_11C9=text_11[text_11.find('CHAPTER IX'):text_11.find('CHAPTER X')]"
   ]
  },
  {
   "cell_type": "code",
   "execution_count": 128,
   "metadata": {},
   "outputs": [],
   "source": [
    "text_11C10=text_11[text_11.find('CHAPTER X'):text_11.find('CHAPTER XI')]"
   ]
  },
  {
   "cell_type": "code",
   "execution_count": 129,
   "metadata": {},
   "outputs": [],
   "source": [
    "text_11C11=text_11[text_11.find('CHAPTER XI'):text_11.find('CHAPTER XII')]"
   ]
  },
  {
   "cell_type": "code",
   "execution_count": 130,
   "metadata": {},
   "outputs": [],
   "source": [
    "text_11C12=text_11[text_11.find('CHAPTER XII'):text_11.find('CHAPTER XIII')]"
   ]
  },
  {
   "cell_type": "code",
   "execution_count": 131,
   "metadata": {},
   "outputs": [],
   "source": [
    "text_11C13=text_11[text_11.find('CHAPTER XIII'):text_11.find('CHAPTER XIV')]"
   ]
  },
  {
   "cell_type": "code",
   "execution_count": 132,
   "metadata": {},
   "outputs": [],
   "source": [
    "text_11C14=text_11[text_11.find('CHAPTER XIV'):text_11.find('CHAPTER XV')]"
   ]
  },
  {
   "cell_type": "code",
   "execution_count": 133,
   "metadata": {},
   "outputs": [],
   "source": [
    "text_11C15=text_11[text_11.find('CHAPTER XV'):text_11.find('CHAPTER XVI')]"
   ]
  },
  {
   "cell_type": "code",
   "execution_count": 134,
   "metadata": {},
   "outputs": [],
   "source": [
    "text_11C16=text_11[text_11.find('CHAPTER XVI'):text_11.find('CHAPTER XVII')]"
   ]
  },
  {
   "cell_type": "code",
   "execution_count": 135,
   "metadata": {},
   "outputs": [],
   "source": [
    "text_11C17=text_11[text_11.find('CHAPTER XVII'):text_11.find('CHAPTER XVIII')]"
   ]
  },
  {
   "cell_type": "code",
   "execution_count": 136,
   "metadata": {},
   "outputs": [],
   "source": [
    "text_11C18=text_11[text_11.find('CHAPTER XVIII')::]"
   ]
  },
  {
   "cell_type": "code",
   "execution_count": 137,
   "metadata": {},
   "outputs": [],
   "source": [
    "raw_text_11 = [text_11C1, text_11C2,text_11C3, text_11C4,text_11C5, text_11C6,text_11C7, text_11C8,text_11C9,\n",
    "              text_11C10,text_11C11, text_11C12,text_11C13,text_11C14,text_11C15, text_11C16,text_11C17, text_11C18 ]\n",
    "raw_book_11 = pd.DataFrame({'title':'the_secret_of_sarek', \n",
    "                           'chapter':['01','02','03','04','05','06','07','08','09',\n",
    "                                      '10','11','12','13','14','15','16','17','18'],\n",
    "                           'text' : raw_text_11})\n",
    "raw_book_11.to_csv('data/raw_book_11.csv')"
   ]
  },
  {
   "cell_type": "markdown",
   "metadata": {},
   "source": [
    "### Book 12: The Three Eyes"
   ]
  },
  {
   "cell_type": "code",
   "execution_count": 138,
   "metadata": {},
   "outputs": [],
   "source": [
    "url_12 = \"https://dev.gutenberg.org/cache/epub/34653/pg34653.txt\"\n",
    "raw_12 = read_and_decode(url_12)"
   ]
  },
  {
   "cell_type": "code",
   "execution_count": 139,
   "metadata": {},
   "outputs": [],
   "source": [
    "text_12 = raw_12[raw_12.find('CHAPTER I'):raw_12.rfind('THE END')]"
   ]
  },
  {
   "cell_type": "markdown",
   "metadata": {},
   "source": [
    "### Book13: The Tremendous Event"
   ]
  },
  {
   "cell_type": "code",
   "execution_count": 140,
   "metadata": {},
   "outputs": [],
   "source": [
    "url_13 = \"https://dev.gutenberg.org/cache/epub/33386/pg33386.txt\"\n",
    "raw_13 = read_and_decode(url_13)"
   ]
  },
  {
   "cell_type": "code",
   "execution_count": 141,
   "metadata": {},
   "outputs": [],
   "source": [
    "text_13 = raw_13[raw_13.find('CHAPTER I'):raw_13.rfind('THE END')]"
   ]
  },
  {
   "cell_type": "markdown",
   "metadata": {},
   "source": [
    "### Book 14: The Eight Strokes of The Clock"
   ]
  },
  {
   "cell_type": "code",
   "execution_count": 142,
   "metadata": {},
   "outputs": [],
   "source": [
    "url_14 = \"https://dev.gutenberg.org/cache/epub/7896/pg7896.txt\"\n",
    "raw_14 = read_and_decode(url_14)"
   ]
  },
  {
   "cell_type": "code",
   "execution_count": 143,
   "metadata": {},
   "outputs": [],
   "source": [
    "text_14 = raw_14[raw_14.find('ON THE TOP OF THE TOWER'):raw_14.rfind('THE END')]"
   ]
  },
  {
   "cell_type": "markdown",
   "metadata": {},
   "source": [
    "### Book 15: The Secret Tombe"
   ]
  },
  {
   "cell_type": "code",
   "execution_count": 144,
   "metadata": {},
   "outputs": [],
   "source": [
    "url_15 = \"https://dev.gutenberg.org/cache/epub/59072/pg59072.txt\"\n",
    "raw_15 = read_and_decode(url_15)"
   ]
  },
  {
   "cell_type": "code",
   "execution_count": 145,
   "metadata": {},
   "outputs": [],
   "source": [
    "text_15 = raw_15[raw_15.find('CHAPTER I'):raw_15.rfind('End of the Project Gutenberg')]"
   ]
  },
  {
   "cell_type": "code",
   "execution_count": 146,
   "metadata": {},
   "outputs": [
    {
     "data": {
      "text/plain": [
       "18"
      ]
     },
     "execution_count": 146,
     "metadata": {},
     "output_type": "execute_result"
    }
   ],
   "source": [
    "text_15.count('CHAPTER')"
   ]
  },
  {
   "cell_type": "code",
   "execution_count": 147,
   "metadata": {},
   "outputs": [],
   "source": [
    "text_15C1=text_15[text_15.find('CHAPTER I'):text_15.find('CHAPTER II')]"
   ]
  },
  {
   "cell_type": "code",
   "execution_count": 148,
   "metadata": {},
   "outputs": [],
   "source": [
    "text_15C2=text_15[text_15.find('CHAPTER II'):text_15.find('CHAPTER III')]"
   ]
  },
  {
   "cell_type": "code",
   "execution_count": 149,
   "metadata": {},
   "outputs": [],
   "source": [
    "text_15C3=text_15[text_15.find('CHAPTER III'):text_15.find('CHAPTER IV')]"
   ]
  },
  {
   "cell_type": "code",
   "execution_count": 150,
   "metadata": {},
   "outputs": [],
   "source": [
    "text_15C4=text_15[text_15.find('CHAPTER IV'):text_15.find('CHAPTER V')]"
   ]
  },
  {
   "cell_type": "code",
   "execution_count": 151,
   "metadata": {},
   "outputs": [],
   "source": [
    "text_15C5=text_15[text_15.find('CHAPTER V'):text_15.find('CHAPTER VI')]"
   ]
  },
  {
   "cell_type": "code",
   "execution_count": 152,
   "metadata": {},
   "outputs": [],
   "source": [
    "text_15C6=text_15[text_15.find('CHAPTER VI'):text_15.find('CHAPTER VII')]"
   ]
  },
  {
   "cell_type": "code",
   "execution_count": 153,
   "metadata": {},
   "outputs": [],
   "source": [
    "text_15C7=text_15[text_15.find('CHAPTER VII'):text_15.find('CHAPTER VIII')]"
   ]
  },
  {
   "cell_type": "code",
   "execution_count": 154,
   "metadata": {},
   "outputs": [],
   "source": [
    "text_15C8=text_15[text_15.find('CHAPTER VIII'):text_15.find('CHAPTER IX')]"
   ]
  },
  {
   "cell_type": "code",
   "execution_count": 155,
   "metadata": {},
   "outputs": [],
   "source": [
    "text_15C9=text_15[text_15.find('CHAPTER IX'):text_15.find('CHAPTER X')]"
   ]
  },
  {
   "cell_type": "code",
   "execution_count": 156,
   "metadata": {},
   "outputs": [],
   "source": [
    "text_15C10=text_15[text_15.find('CHAPTER X'):text_15.find('CHAPTER XI')]"
   ]
  },
  {
   "cell_type": "code",
   "execution_count": 157,
   "metadata": {},
   "outputs": [],
   "source": [
    "text_15C11=text_15[text_15.find('CHAPTER XI'):text_15.find('CHAPTER XII')]"
   ]
  },
  {
   "cell_type": "code",
   "execution_count": 158,
   "metadata": {},
   "outputs": [],
   "source": [
    "text_15C12=text_15[text_15.find('CHAPTER XII'):text_15.find('CHAPTER XIII')]"
   ]
  },
  {
   "cell_type": "code",
   "execution_count": 159,
   "metadata": {},
   "outputs": [],
   "source": [
    "text_15C13=text_15[text_15.find('CHAPTER XIII'):text_15.find('CHAPTER XIV')]"
   ]
  },
  {
   "cell_type": "code",
   "execution_count": 160,
   "metadata": {},
   "outputs": [],
   "source": [
    "text_15C14=text_15[text_15.find('CHAPTER XIV'):text_15.find('CHAPTER XV')]"
   ]
  },
  {
   "cell_type": "code",
   "execution_count": 161,
   "metadata": {},
   "outputs": [],
   "source": [
    "text_15C15=text_15[text_15.find('CHAPTER XV'):text_15.find('CHAPTER XVI')]"
   ]
  },
  {
   "cell_type": "code",
   "execution_count": 162,
   "metadata": {},
   "outputs": [],
   "source": [
    "text_15C16=text_15[text_15.find('CHAPTER XVI'):text_15.find('CHAPTER XVII')]"
   ]
  },
  {
   "cell_type": "code",
   "execution_count": 163,
   "metadata": {},
   "outputs": [],
   "source": [
    "text_15C17=text_15[text_15.find('CHAPTER XVII'):text_15.find('CHAPTER XVIII')]"
   ]
  },
  {
   "cell_type": "code",
   "execution_count": 164,
   "metadata": {},
   "outputs": [],
   "source": [
    "text_15C18=text_15[text_15.find('CHAPTER XVIII')::]"
   ]
  },
  {
   "cell_type": "code",
   "execution_count": 165,
   "metadata": {},
   "outputs": [],
   "source": [
    "raw_text_15 = [text_15C1, text_15C2,text_15C3, text_15C4,text_15C5, text_15C6,text_15C7, text_15C8,text_15C9,\n",
    "              text_15C10,text_15C11, text_15C12,text_15C13,text_15C14,text_15C15, text_15C16,text_15C17, text_15C18 ]\n",
    "raw_book_15 = pd.DataFrame({'title':'the_secret_tombe', \n",
    "                           'chapter':['01','02','03','04','05','06','07','08','09',\n",
    "                                      '10','11','12','13','14','15','16','17','18'],\n",
    "                           'text' : raw_text_15})\n",
    "raw_book_15.to_csv('data/raw_book_15.csv')"
   ]
  },
  {
   "cell_type": "markdown",
   "metadata": {},
   "source": [
    "### Book 16: The Return of Arsène Lupin"
   ]
  },
  {
   "cell_type": "code",
   "execution_count": 166,
   "metadata": {},
   "outputs": [],
   "source": [
    "url_16 =\"https://dev.gutenberg.org/files/34795/34795-0.txt\"\n",
    "raw_16 = read_and_decode(url_16)"
   ]
  },
  {
   "cell_type": "code",
   "execution_count": 167,
   "metadata": {},
   "outputs": [],
   "source": [
    "text_16 = raw_16[raw_16.find('CHAPTER I'):raw_16.find('THE END')]"
   ]
  },
  {
   "cell_type": "code",
   "execution_count": 168,
   "metadata": {},
   "outputs": [],
   "source": [
    "text_16C1 = raw_16[raw_16.find('CHAPTER I'):raw_16.find('CHAPTER II')]"
   ]
  },
  {
   "cell_type": "code",
   "execution_count": 169,
   "metadata": {},
   "outputs": [],
   "source": [
    "text_16C2 = raw_16[raw_16.find('CHAPTER II'):raw_16.find('CHAPTER III')]"
   ]
  },
  {
   "cell_type": "code",
   "execution_count": 170,
   "metadata": {},
   "outputs": [],
   "source": [
    "text_16C3 = raw_16[raw_16.find('CHAPTER III'):raw_16.find('CHAPTER IV')]"
   ]
  },
  {
   "cell_type": "code",
   "execution_count": 171,
   "metadata": {},
   "outputs": [],
   "source": [
    "text_16C4 = raw_16[raw_16.find('CHAPTER IV'):raw_16.find('CHAPTER V')]"
   ]
  },
  {
   "cell_type": "code",
   "execution_count": 172,
   "metadata": {},
   "outputs": [],
   "source": [
    "text_16C5 = raw_16[raw_16.find('CHAPTER V'):raw_16.find('CHAPTER VI')]"
   ]
  },
  {
   "cell_type": "code",
   "execution_count": 173,
   "metadata": {},
   "outputs": [],
   "source": [
    "text_16C6 = raw_16[raw_16.find('CHAPTER VI'):raw_16.find('CHAPTER VII')]"
   ]
  },
  {
   "cell_type": "code",
   "execution_count": 174,
   "metadata": {},
   "outputs": [],
   "source": [
    "text_16C7 = raw_16[raw_16.find('The great hall that'):raw_16.find('CHAPTER VIII')]"
   ]
  },
  {
   "cell_type": "code",
   "execution_count": 175,
   "metadata": {},
   "outputs": [],
   "source": [
    "text_16C8 = raw_16[raw_16.find('CHAPTER VIII'):raw_16.find('CHAPTER IX')]"
   ]
  },
  {
   "cell_type": "code",
   "execution_count": 176,
   "metadata": {},
   "outputs": [],
   "source": [
    "text_16C9 = raw_16[raw_16.find('CHAPTER IX'):raw_16.find('CHAPTER X')]"
   ]
  },
  {
   "cell_type": "code",
   "execution_count": 177,
   "metadata": {},
   "outputs": [],
   "source": [
    "text_16C10 = raw_16[raw_16.find('CHAPTER X'):raw_16.find('CHAPTER XI')]"
   ]
  },
  {
   "cell_type": "code",
   "execution_count": 178,
   "metadata": {},
   "outputs": [],
   "source": [
    "text_16C11 = raw_16[raw_16.find('CHAPTER XI'):raw_16.find('CHAPTER XII')]"
   ]
  },
  {
   "cell_type": "code",
   "execution_count": 179,
   "metadata": {},
   "outputs": [],
   "source": [
    "text_16C12 = raw_16[raw_16.find('CHAPTER XII'):raw_16.find('CHAPTER XIII')]"
   ]
  },
  {
   "cell_type": "code",
   "execution_count": 180,
   "metadata": {},
   "outputs": [],
   "source": [
    "text_16C13 = raw_16[raw_16.find('CHAPTER XIII'):raw_16.find('CHAPTER XIV')]"
   ]
  },
  {
   "cell_type": "code",
   "execution_count": 181,
   "metadata": {},
   "outputs": [],
   "source": [
    "text_16C14 = raw_16[raw_16.find('CHAPTER XIV'):raw_16.find('CHAPTER XV')]"
   ]
  },
  {
   "cell_type": "code",
   "execution_count": 182,
   "metadata": {},
   "outputs": [],
   "source": [
    "text_16C15 = raw_16[raw_16.find('CHAPTER XV'):raw_16.find('CHAPTER XVI')]"
   ]
  },
  {
   "cell_type": "code",
   "execution_count": 183,
   "metadata": {},
   "outputs": [],
   "source": [
    "text_16C16 = raw_16[raw_16.find('CHAPTER XVI'):raw_16.find('CHAPTER XVII')]"
   ]
  },
  {
   "cell_type": "code",
   "execution_count": 184,
   "metadata": {},
   "outputs": [],
   "source": [
    "text_16C17 = raw_16[raw_16.find('CHAPTER XVII'):raw_16.find('CHAPTER XVIII')]"
   ]
  },
  {
   "cell_type": "code",
   "execution_count": 185,
   "metadata": {},
   "outputs": [],
   "source": [
    "text_16C18 = raw_16[raw_16.find('CHAPTER XVIII'):raw_16.find('CHAPTER XIX')]"
   ]
  },
  {
   "cell_type": "code",
   "execution_count": 186,
   "metadata": {},
   "outputs": [],
   "source": [
    "text_16C19 = raw_16[raw_16.find('CHAPTER XIX'):raw_16.find('THE END')]"
   ]
  },
  {
   "cell_type": "code",
   "execution_count": 187,
   "metadata": {},
   "outputs": [],
   "source": [
    "raw_text_16 = [text_16C1, text_16C2,text_16C3, text_16C4,text_16C5, text_16C6,text_16C7,\n",
    "              text_16C8,text_16C9,text_16C10,text_16C11, text_16C12,text_16C13,text_16C14,\n",
    "              text_16C15, text_16C16,text_16C17, text_16C18, text_16C19 ]\n",
    "raw_book_16 = pd.DataFrame({'title':'the_return_of_arsene', \n",
    "                           'chapter':['01','02','03','04','05','06','07','08','09','10',\n",
    "                                      '11','12','13','14','15','16','17','18', '19'],\n",
    "                           'text' : raw_text_16})\n",
    "raw_book_16.to_csv('data/raw_book_16.csv')"
   ]
  },
  {
   "cell_type": "markdown",
   "metadata": {},
   "source": [
    "#### Bundle of  10 raw books"
   ]
  },
  {
   "cell_type": "code",
   "execution_count": 188,
   "metadata": {},
   "outputs": [],
   "source": [
    "frame  = [raw_book_1, raw_book_2, raw_book_3, raw_book_4, raw_book_6, \n",
    "          raw_book_7, raw_book_10, raw_book_11, raw_book_15, raw_book_16]\n",
    "raw_ten_books = pd.concat(frame)  \n",
    "raw_ten_books.to_csv('data/raw_ten_books.csv')"
   ]
  },
  {
   "cell_type": "markdown",
   "metadata": {},
   "source": [
    "### Tokenize raw uncleaned textes and converting into nltk.Text files"
   ]
  },
  {
   "cell_type": "code",
   "execution_count": 189,
   "metadata": {},
   "outputs": [],
   "source": [
    "def tokenize_text(raw_text):\n",
    "    tokens = word_tokenize(raw_text)\n",
    "    tokenized_text = nltk.Text(tokens)\n",
    "    return tokenized_text"
   ]
  },
  {
   "cell_type": "code",
   "execution_count": 190,
   "metadata": {},
   "outputs": [],
   "source": [
    "book_1_txt = tokenize_text(text_1)"
   ]
  },
  {
   "cell_type": "code",
   "execution_count": 191,
   "metadata": {},
   "outputs": [],
   "source": [
    "book_1C1_txt = tokenize_text(text_1C1)\n",
    "book_1C2_txt = tokenize_text(text_1C2)\n",
    "book_1C3_txt = tokenize_text(text_1C3)\n",
    "book_1C4_txt = tokenize_text(text_1C4)\n",
    "book_1C5_txt = tokenize_text(text_1C5)\n",
    "book_1C6_txt = tokenize_text(text_1C6)\n",
    "book_1C7_txt = tokenize_text(text_1C7)\n",
    "book_1C8_txt = tokenize_text(text_1C8)\n",
    "book_1C9_txt = tokenize_text(text_1C9)"
   ]
  },
  {
   "cell_type": "code",
   "execution_count": 192,
   "metadata": {},
   "outputs": [],
   "source": [
    "book_1_docs = [text_1C1,text_1C2, text_1C3,text_1C4,text_1C5,text_1C6,text_1C7,text_1C8, text_1C9]"
   ]
  },
  {
   "cell_type": "code",
   "execution_count": 193,
   "metadata": {},
   "outputs": [],
   "source": [
    "book_2_txt = tokenize_text(text_2)"
   ]
  },
  {
   "cell_type": "code",
   "execution_count": 194,
   "metadata": {},
   "outputs": [],
   "source": [
    "book_2C1_txt = tokenize_text(text_2C1)\n",
    "book_2C2_txt = tokenize_text(text_2C2)\n",
    "book_2C3_txt = tokenize_text(text_2C3)\n",
    "book_2C4_txt = tokenize_text(text_2C4)\n",
    "book_2C5_txt = tokenize_text(text_2C5)\n",
    "book_2C6_txt = tokenize_text(text_2C6)\n",
    "book_2C7_txt = tokenize_text(text_2C7)\n",
    "book_2C8_txt = tokenize_text(text_2C8)"
   ]
  },
  {
   "cell_type": "code",
   "execution_count": 195,
   "metadata": {},
   "outputs": [],
   "source": [
    "book_2_docs = [text_2C1,text_2C2, text_2C3,text_2C4,text_2C5,text_2C6,text_2C7,text_2C8]"
   ]
  },
  {
   "cell_type": "markdown",
   "metadata": {},
   "source": [
    "* The Hollow Neelde"
   ]
  },
  {
   "cell_type": "code",
   "execution_count": 196,
   "metadata": {},
   "outputs": [],
   "source": [
    "book_3_txt = tokenize_text(text_3)"
   ]
  },
  {
   "cell_type": "code",
   "execution_count": 197,
   "metadata": {},
   "outputs": [],
   "source": [
    "book_3C1_txt = tokenize_text(text_3C1)\n",
    "book_3C2_txt = tokenize_text(text_3C2)\n",
    "book_3C3_txt = tokenize_text(text_3C3)\n",
    "book_3C4_txt = tokenize_text(text_3C4)\n",
    "book_3C5_txt = tokenize_text(text_3C5)\n",
    "book_3C6_txt = tokenize_text(text_3C6)\n",
    "book_3C7_txt = tokenize_text(text_3C7)\n",
    "book_3C8_txt = tokenize_text(text_3C8)\n",
    "book_3C9_txt = tokenize_text(text_3C9)\n",
    "book_3C10_txt = tokenize_text(text_3C10)"
   ]
  },
  {
   "cell_type": "code",
   "execution_count": 198,
   "metadata": {},
   "outputs": [],
   "source": [
    "book_3_docs = [text_3C1,text_3C2, text_3C3,text_3C4,text_3C5,text_3C6,text_3C7,text_3C8, text_3C9,\n",
    "              text_3C10]"
   ]
  },
  {
   "cell_type": "markdown",
   "metadata": {},
   "source": [
    "* 4 The Blonde Lady"
   ]
  },
  {
   "cell_type": "code",
   "execution_count": 199,
   "metadata": {},
   "outputs": [],
   "source": [
    "book_4_txt = tokenize_text(text_4)"
   ]
  },
  {
   "cell_type": "code",
   "execution_count": 200,
   "metadata": {},
   "outputs": [],
   "source": [
    "book_4C1_txt = tokenize_text(text_4C1)\n",
    "book_4C2_txt = tokenize_text(text_4C2)\n",
    "book_4C3_txt = tokenize_text(text_4C3)\n",
    "book_4C4_txt = tokenize_text(text_4C4)\n",
    "book_4C5_txt = tokenize_text(text_4C5)\n",
    "book_4C6_txt = tokenize_text(text_4C6)\n",
    "book_4C7_txt = tokenize_text(text_4C7)"
   ]
  },
  {
   "cell_type": "code",
   "execution_count": 201,
   "metadata": {},
   "outputs": [],
   "source": [
    "book_4_docs = [text_4C1,text_4C2, text_4C3,text_4C4,text_4C5,text_4C6,text_4C7]"
   ]
  },
  {
   "cell_type": "markdown",
   "metadata": {},
   "source": [
    "* 5 The Frontier"
   ]
  },
  {
   "cell_type": "code",
   "execution_count": 202,
   "metadata": {},
   "outputs": [],
   "source": [
    "book_5_txt = tokenize_text(text_5)"
   ]
  },
  {
   "cell_type": "markdown",
   "metadata": {},
   "source": [
    "* 6 The Crystal Stopper"
   ]
  },
  {
   "cell_type": "code",
   "execution_count": 203,
   "metadata": {},
   "outputs": [],
   "source": [
    "book_6_txt = tokenize_text(text_6)"
   ]
  },
  {
   "cell_type": "code",
   "execution_count": 204,
   "metadata": {},
   "outputs": [],
   "source": [
    "book_6C1_txt = tokenize_text(text_6C1)\n",
    "book_6C2_txt = tokenize_text(text_6C2)\n",
    "book_6C3_txt = tokenize_text(text_6C3)\n",
    "book_6C4_txt = tokenize_text(text_6C4)\n",
    "book_6C5_txt = tokenize_text(text_6C5)\n",
    "book_6C6_txt = tokenize_text(text_6C6)\n",
    "book_6C7_txt = tokenize_text(text_6C7)\n",
    "book_6C8_txt = tokenize_text(text_6C8)\n",
    "book_6C9_txt = tokenize_text(text_6C9)\n",
    "book_6C10_txt = tokenize_text(text_6C10)\n",
    "book_6C11_txt = tokenize_text(text_6C11)\n",
    "book_6C12_txt = tokenize_text(text_6C12)\n",
    "book_6C13_txt = tokenize_text(text_6C13)"
   ]
  },
  {
   "cell_type": "code",
   "execution_count": 205,
   "metadata": {},
   "outputs": [],
   "source": [
    "book_6_docs = [text_6C1,text_6C2, text_6C3,text_6C4,text_6C5,text_6C6,text_6C7,text_6C8, text_6C9,\n",
    "              text_6C10, text_6C11, text_6C12, text_6C13]"
   ]
  },
  {
   "cell_type": "markdown",
   "metadata": {},
   "source": [
    "* 7 The Confessions of Arsene Lupin"
   ]
  },
  {
   "cell_type": "code",
   "execution_count": 206,
   "metadata": {},
   "outputs": [],
   "source": [
    "book_7_txt = tokenize_text(text_7)"
   ]
  },
  {
   "cell_type": "code",
   "execution_count": 207,
   "metadata": {},
   "outputs": [],
   "source": [
    "book_7C1_txt = tokenize_text(text_7C1)\n",
    "book_7C2_txt = tokenize_text(text_7C2)\n",
    "book_7C3_txt = tokenize_text(text_7C3)\n",
    "book_7C4_txt = tokenize_text(text_7C4)\n",
    "book_7C5_txt = tokenize_text(text_7C5)\n",
    "book_7C6_txt = tokenize_text(text_7C6)\n",
    "book_7C7_txt = tokenize_text(text_7C7)\n",
    "book_7C8_txt = tokenize_text(text_7C8)\n",
    "book_7C9_txt = tokenize_text(text_7C9)\n",
    "book_7C10_txt = tokenize_text(text_7C10)"
   ]
  },
  {
   "cell_type": "code",
   "execution_count": 208,
   "metadata": {},
   "outputs": [],
   "source": [
    "book_7_docs = [text_7C1,text_7C2, text_7C3,text_7C4,text_7C5,text_7C6,text_7C7,text_7C8, text_7C9,\n",
    "              text_7C10]"
   ]
  },
  {
   "cell_type": "markdown",
   "metadata": {},
   "source": [
    "* 8 The Teeth of The Tiger"
   ]
  },
  {
   "cell_type": "code",
   "execution_count": 209,
   "metadata": {},
   "outputs": [],
   "source": [
    "book_8_txt = tokenize_text(text_8)"
   ]
  },
  {
   "cell_type": "markdown",
   "metadata": {},
   "source": [
    "* 9 The  Woman of Myster"
   ]
  },
  {
   "cell_type": "code",
   "execution_count": 210,
   "metadata": {},
   "outputs": [],
   "source": [
    "book_9_txt = tokenize_text(text_9)"
   ]
  },
  {
   "cell_type": "markdown",
   "metadata": {},
   "source": [
    "* 10 The Double Life of Arsene Lupin"
   ]
  },
  {
   "cell_type": "code",
   "execution_count": 211,
   "metadata": {},
   "outputs": [],
   "source": [
    "book_10_txt = tokenize_text(text_10)"
   ]
  },
  {
   "cell_type": "code",
   "execution_count": 212,
   "metadata": {},
   "outputs": [],
   "source": [
    "book_10C1_txt = tokenize_text(text_10C1)\n",
    "book_10C2_txt = tokenize_text(text_10C2)\n",
    "book_10C3_txt = tokenize_text(text_10C3)\n",
    "book_10C4_txt = tokenize_text(text_10C4)\n",
    "book_10C5_txt = tokenize_text(text_10C5)\n",
    "book_10C6_txt = tokenize_text(text_10C6)\n",
    "book_10C7_txt = tokenize_text(text_10C7)\n",
    "book_10C8_txt = tokenize_text(text_10C8)\n",
    "book_10C9_txt = tokenize_text(text_10C9)\n",
    "book_10C10_txt = tokenize_text(text_10C10)\n",
    "book_10C11_txt = tokenize_text(text_10C11)\n",
    "book_10C12_txt = tokenize_text(text_10C12)\n",
    "book_10C13_txt = tokenize_text(text_10C13)\n",
    "book_10C14_txt = tokenize_text(text_10C14)\n",
    "book_10C15_txt = tokenize_text(text_10C15)\n",
    "book_10C16_txt = tokenize_text(text_10C16)"
   ]
  },
  {
   "cell_type": "code",
   "execution_count": 213,
   "metadata": {},
   "outputs": [],
   "source": [
    "book_10_docs = [text_10C1,text_10C2, text_10C3,text_10C4,text_10C5,text_10C6,text_10C7,text_10C8, text_10C9,\n",
    "              text_10C10, text_10C11, text_10C12, text_10C13, text_10C14, text_10C15, text_10C16]"
   ]
  },
  {
   "cell_type": "markdown",
   "metadata": {},
   "source": [
    "* 11 The Secret of Sarek"
   ]
  },
  {
   "cell_type": "code",
   "execution_count": 214,
   "metadata": {},
   "outputs": [],
   "source": [
    "book_11_txt = tokenize_text(text_16)"
   ]
  },
  {
   "cell_type": "code",
   "execution_count": 215,
   "metadata": {},
   "outputs": [],
   "source": [
    "book_11C1_txt = tokenize_text(text_11C1)\n",
    "book_11C2_txt = tokenize_text(text_11C2)\n",
    "book_11C3_txt = tokenize_text(text_11C3)\n",
    "book_11C4_txt = tokenize_text(text_11C4)\n",
    "book_11C5_txt = tokenize_text(text_11C5)\n",
    "book_11C6_txt = tokenize_text(text_11C6)\n",
    "book_11C7_txt = tokenize_text(text_11C7)\n",
    "book_11C8_txt = tokenize_text(text_11C8)\n",
    "book_11C9_txt = tokenize_text(text_11C9)\n",
    "book_11C10_txt = tokenize_text(text_11C10)\n",
    "book_11C11_txt = tokenize_text(text_11C11)\n",
    "book_11C12_txt = tokenize_text(text_11C12)\n",
    "book_11C13_txt = tokenize_text(text_11C13)\n",
    "book_11C14_txt = tokenize_text(text_11C14)\n",
    "book_11C15_txt = tokenize_text(text_11C15)\n",
    "book_11C16_txt = tokenize_text(text_11C16)\n",
    "book_11C17_txt = tokenize_text(text_11C17)\n",
    "book_11C18_txt = tokenize_text(text_11C18)"
   ]
  },
  {
   "cell_type": "code",
   "execution_count": 216,
   "metadata": {},
   "outputs": [],
   "source": [
    "book_11_docs = [text_11C1,text_11C2, text_11C3,text_11C4,text_11C5,text_11C6,text_11C7,text_11C8,\n",
    "               text_11C9,text_11C10, text_11C11, text_11C12, text_11C13, text_11C14, text_11C15,\n",
    "               text_11C16, text_11C17, text_11C18]"
   ]
  },
  {
   "cell_type": "markdown",
   "metadata": {},
   "source": [
    "* 12 The Three Eyes"
   ]
  },
  {
   "cell_type": "code",
   "execution_count": 217,
   "metadata": {},
   "outputs": [],
   "source": [
    "book_12_txt = tokenize_text(text_12)"
   ]
  },
  {
   "cell_type": "markdown",
   "metadata": {},
   "source": [
    "* 13 The Tremendous Event"
   ]
  },
  {
   "cell_type": "code",
   "execution_count": 218,
   "metadata": {},
   "outputs": [],
   "source": [
    "book_13_txt = tokenize_text(text_13)"
   ]
  },
  {
   "cell_type": "markdown",
   "metadata": {},
   "source": [
    "* 14 The Eight Strokes of the Clock"
   ]
  },
  {
   "cell_type": "code",
   "execution_count": 219,
   "metadata": {},
   "outputs": [],
   "source": [
    "book_14_txt = tokenize_text(text_14)"
   ]
  },
  {
   "cell_type": "markdown",
   "metadata": {},
   "source": [
    "* 15 The Secret Tombe"
   ]
  },
  {
   "cell_type": "code",
   "execution_count": 220,
   "metadata": {},
   "outputs": [],
   "source": [
    "book_15_txt = tokenize_text(text_15)"
   ]
  },
  {
   "cell_type": "code",
   "execution_count": 221,
   "metadata": {},
   "outputs": [],
   "source": [
    "book_15C1_txt = tokenize_text(text_15C1)\n",
    "book_15C2_txt = tokenize_text(text_15C2)\n",
    "book_15C3_txt = tokenize_text(text_15C3)\n",
    "book_15C4_txt = tokenize_text(text_15C4)\n",
    "book_15C5_txt = tokenize_text(text_15C5)\n",
    "book_15C6_txt = tokenize_text(text_15C6)\n",
    "book_15C7_txt = tokenize_text(text_15C7)\n",
    "book_15C8_txt = tokenize_text(text_15C8)\n",
    "book_15C9_txt = tokenize_text(text_15C9)\n",
    "book_15C10_txt = tokenize_text(text_15C10)\n",
    "book_15C11_txt = tokenize_text(text_15C11)\n",
    "book_15C12_txt = tokenize_text(text_15C12)\n",
    "book_15C13_txt = tokenize_text(text_15C13)\n",
    "book_15C14_txt = tokenize_text(text_15C14)\n",
    "book_15C15_txt = tokenize_text(text_15C15)\n",
    "book_15C16_txt = tokenize_text(text_15C16)\n",
    "book_15C17_txt = tokenize_text(text_15C17)\n",
    "book_15C18_txt = tokenize_text(text_15C18)"
   ]
  },
  {
   "cell_type": "code",
   "execution_count": 222,
   "metadata": {},
   "outputs": [],
   "source": [
    "book_15_docs = [text_15C1,text_15C2, text_15C3,text_15C4,text_15C5,text_15C6,text_15C7,text_15C8,\n",
    "               text_15C9,text_15C10, text_15C11, text_15C12, text_15C13, text_15C14, text_15C15,\n",
    "               text_15C16, text_15C17, text_15C18]"
   ]
  },
  {
   "cell_type": "markdown",
   "metadata": {},
   "source": [
    "* 16 The Return of Arsene Lupin"
   ]
  },
  {
   "cell_type": "code",
   "execution_count": 223,
   "metadata": {},
   "outputs": [],
   "source": [
    "book_16_txt = tokenize_text(text_16)"
   ]
  },
  {
   "cell_type": "code",
   "execution_count": 224,
   "metadata": {},
   "outputs": [],
   "source": [
    "book_16C1_txt = tokenize_text(text_16C1)\n",
    "book_16C2_txt = tokenize_text(text_16C2)\n",
    "book_16C3_txt = tokenize_text(text_16C3)\n",
    "book_16C4_txt = tokenize_text(text_16C4)\n",
    "book_16C5_txt = tokenize_text(text_16C5)\n",
    "book_16C6_txt = tokenize_text(text_16C6)\n",
    "book_16C7_txt = tokenize_text(text_16C7)\n",
    "book_16C8_txt = tokenize_text(text_16C8)\n",
    "book_16C9_txt = tokenize_text(text_16C9)\n",
    "book_16C10_txt = tokenize_text(text_16C10)\n",
    "book_16C11_txt = tokenize_text(text_16C11)\n",
    "book_16C12_txt = tokenize_text(text_16C12)\n",
    "book_16C13_txt = tokenize_text(text_16C13)\n",
    "book_16C14_txt = tokenize_text(text_16C14)\n",
    "book_16C15_txt = tokenize_text(text_16C15)\n",
    "book_16C16_txt = tokenize_text(text_16C16)\n",
    "book_16C17_txt = tokenize_text(text_16C17)\n",
    "book_16C18_txt = tokenize_text(text_16C18)\n",
    "book_16C19_txt = tokenize_text(text_16C19)"
   ]
  },
  {
   "cell_type": "code",
   "execution_count": 225,
   "metadata": {},
   "outputs": [],
   "source": [
    "book_16_docs = [text_16C1,text_16C2, text_16C3,text_16C4,text_16C5,text_16C6,text_16C7,\n",
    "               text_16C8, text_16C9,text_16C10, text_16C11, text_16C12, text_16C13, text_16C14, \n",
    "               text_16C15, text_16C16,text_16C17,text_16C18, text_16C19]"
   ]
  },
  {
   "cell_type": "markdown",
   "metadata": {},
   "source": [
    "## PRE-PROCESSING"
   ]
  },
  {
   "cell_type": "code",
   "execution_count": 237,
   "metadata": {},
   "outputs": [],
   "source": [
    "def preprocessText(text_string):\n",
    "    # Split into words\n",
    "    tokens = nltk.word_tokenize(text_string)\n",
    "    # remove accents\n",
    "    tokens = [unidecode(s) for s in tokens]\n",
    "    # remove punctuation\n",
    "    table = str.maketrans('','', string.punctuation)\n",
    "    stripped = [w.translate(table)for w in tokens]\n",
    "    # removing non alphabetic words\n",
    "    stripped = [word for word in stripped if word.isalpha()]\n",
    "    # convet to lower case\n",
    "    clean_tokens = [ word.lower() for word in stripped]\n",
    "    #clean_tokens = [word for word in stripped if not word in my_stopwords]\n",
    "    clean_text = \" \".join(clean_tokens)\n",
    "    return clean_text"
   ]
  },
  {
   "cell_type": "markdown",
   "metadata": {},
   "source": [
    "### Book 1 : Gentleman Burglar"
   ]
  },
  {
   "cell_type": "code",
   "execution_count": 238,
   "metadata": {},
   "outputs": [
    {
     "data": {
      "text/plain": [
       "str"
      ]
     },
     "execution_count": 238,
     "metadata": {},
     "output_type": "execute_result"
    }
   ],
   "source": [
    "clean_text_1 = preprocessText(text_1)\n",
    "type(clean_text_1)"
   ]
  },
  {
   "cell_type": "code",
   "execution_count": 239,
   "metadata": {},
   "outputs": [],
   "source": [
    "clean_1C1 = preprocessText(text_1C1)\n",
    "clean_1C2 = preprocessText(text_1C2)\n",
    "clean_1C3 = preprocessText(text_1C3)\n",
    "clean_1C4 = preprocessText(text_1C4)\n",
    "clean_1C5 = preprocessText(text_1C5)\n",
    "clean_1C6 = preprocessText(text_1C6)\n",
    "clean_1C7 = preprocessText(text_1C7)\n",
    "clean_1C8 = preprocessText(text_1C8)\n",
    "clean_1C9 = preprocessText(text_1C9)"
   ]
  },
  {
   "cell_type": "code",
   "execution_count": 240,
   "metadata": {},
   "outputs": [],
   "source": [
    "book_1_cl_doc = [clean_1C1, clean_1C2, clean_1C3, clean_1C4, clean_1C5, \n",
    "                 clean_1C6, clean_1C7, clean_1C8, clean_1C9]"
   ]
  },
  {
   "cell_type": "code",
   "execution_count": 241,
   "metadata": {},
   "outputs": [],
   "source": [
    "clean_book_1=pd.DataFrame({'title':'gentleman_burglar',\n",
    "                           'chapter':['01', '02','03', '04', '05', '06', '07','08','09'],\n",
    "                           'text':book_1_cl_doc})\n",
    "clean_book_1.to_csv('data/clean_book_1.csv')"
   ]
  },
  {
   "cell_type": "markdown",
   "metadata": {},
   "source": [
    "### Book 2 : Arsène Lupin vs Herlock Sholmes"
   ]
  },
  {
   "cell_type": "code",
   "execution_count": 242,
   "metadata": {},
   "outputs": [],
   "source": [
    "clean_text_2 = preprocessText(text_2)"
   ]
  },
  {
   "cell_type": "code",
   "execution_count": 243,
   "metadata": {},
   "outputs": [],
   "source": [
    "clean_2C1 = preprocessText(text_2C1)\n",
    "clean_2C2 = preprocessText(text_2C2)\n",
    "clean_2C3 = preprocessText(text_2C3)\n",
    "clean_2C4 = preprocessText(text_2C4)\n",
    "clean_2C5 = preprocessText(text_2C5)\n",
    "clean_2C6 = preprocessText(text_2C6)\n",
    "clean_2C7 = preprocessText(text_2C7)\n",
    "clean_2C8 = preprocessText(text_2C8)"
   ]
  },
  {
   "cell_type": "code",
   "execution_count": 244,
   "metadata": {},
   "outputs": [],
   "source": [
    "book_2_cl_doc = [clean_2C1, clean_2C2, clean_2C3, clean_2C4, clean_2C5, clean_2C6, clean_2C7, clean_2C8]"
   ]
  },
  {
   "cell_type": "code",
   "execution_count": 245,
   "metadata": {},
   "outputs": [],
   "source": [
    "clean_book_2=pd.DataFrame({'title':'arsene_lupin_vs_herlock_sholmes',\n",
    "                           'chapter':['01', '02','03', '04', '05', '06', '07','08'],\n",
    "                           'text':book_2_cl_doc})\n",
    "clean_book_2.to_csv('data/clean_book_2.csv')"
   ]
  },
  {
   "cell_type": "markdown",
   "metadata": {},
   "source": [
    "### Book 3: The Hollow Needle"
   ]
  },
  {
   "cell_type": "code",
   "execution_count": 246,
   "metadata": {},
   "outputs": [],
   "source": [
    "clean_text_3 = preprocessText(text_3)"
   ]
  },
  {
   "cell_type": "code",
   "execution_count": 247,
   "metadata": {},
   "outputs": [],
   "source": [
    "clean_3C1 = preprocessText(text_3C1)\n",
    "clean_3C2 = preprocessText(text_3C2)\n",
    "clean_3C3 = preprocessText(text_3C3)\n",
    "clean_3C4 = preprocessText(text_3C4)\n",
    "clean_3C5 = preprocessText(text_3C5)\n",
    "clean_3C6 = preprocessText(text_3C6)\n",
    "clean_3C7 = preprocessText(text_3C7)\n",
    "clean_3C8 = preprocessText(text_3C8)\n",
    "clean_3C9 = preprocessText(text_3C9)\n",
    "clean_3C10 = preprocessText(text_3C10)"
   ]
  },
  {
   "cell_type": "code",
   "execution_count": 248,
   "metadata": {},
   "outputs": [],
   "source": [
    "book_3_cl_doc = [clean_3C1, clean_3C2, clean_3C3, clean_3C4, clean_3C5,\n",
    "                 clean_3C6, clean_3C7, clean_3C8, clean_3C9, clean_3C10]"
   ]
  },
  {
   "cell_type": "code",
   "execution_count": 249,
   "metadata": {},
   "outputs": [],
   "source": [
    "clean_book_3=pd.DataFrame({'title':'the_hollow_needle',\n",
    "                           'chapter':['01', '02','03', '04', '05', '06', '07','08', '09', '10'],\n",
    "                           'text':book_3_cl_doc})\n",
    "clean_book_3.to_csv('data/clean_book_3.csv')"
   ]
  },
  {
   "cell_type": "markdown",
   "metadata": {},
   "source": [
    "### Book 4: The Blonde Lady "
   ]
  },
  {
   "cell_type": "code",
   "execution_count": 250,
   "metadata": {},
   "outputs": [],
   "source": [
    "clean_text_4 = preprocessText(text_4)"
   ]
  },
  {
   "cell_type": "code",
   "execution_count": 251,
   "metadata": {},
   "outputs": [],
   "source": [
    "clean_4C1 = preprocessText(text_4C1)\n",
    "clean_4C2 = preprocessText(text_4C2)\n",
    "clean_4C3 = preprocessText(text_4C3)\n",
    "clean_4C4 = preprocessText(text_4C4)\n",
    "clean_4C5 = preprocessText(text_4C5)\n",
    "clean_4C6 = preprocessText(text_4C6)\n",
    "clean_4C7 = preprocessText(text_4C7)"
   ]
  },
  {
   "cell_type": "code",
   "execution_count": 252,
   "metadata": {},
   "outputs": [],
   "source": [
    "book_4_cl_doc = [clean_4C1, clean_4C2, clean_4C3, clean_4C4, clean_4C5, clean_4C6, clean_4C7]"
   ]
  },
  {
   "cell_type": "code",
   "execution_count": 253,
   "metadata": {},
   "outputs": [],
   "source": [
    "clean_book_4=pd.DataFrame({'title':'the_blonde_lady',\n",
    "                           'chapter':['01', '02','03', '04', '05', '06', '07'],\n",
    "                           'text':book_4_cl_doc})\n",
    "clean_book_4.to_csv('data/clean_book_4.csv')"
   ]
  },
  {
   "cell_type": "markdown",
   "metadata": {},
   "source": [
    "### Book 5 The Frontier"
   ]
  },
  {
   "cell_type": "code",
   "execution_count": 254,
   "metadata": {},
   "outputs": [],
   "source": [
    "clean_text_5 = preprocessText(text_5)"
   ]
  },
  {
   "cell_type": "markdown",
   "metadata": {},
   "source": [
    "### Book 6: The Crystal Stopper"
   ]
  },
  {
   "cell_type": "code",
   "execution_count": 255,
   "metadata": {},
   "outputs": [],
   "source": [
    "clean_text_6 = preprocessText(text_6)"
   ]
  },
  {
   "cell_type": "code",
   "execution_count": 256,
   "metadata": {},
   "outputs": [],
   "source": [
    "clean_6C1 = preprocessText(text_6C1)\n",
    "clean_6C2 = preprocessText(text_6C2)\n",
    "clean_6C3 = preprocessText(text_6C3)\n",
    "clean_6C4 = preprocessText(text_6C4)\n",
    "clean_6C5 = preprocessText(text_6C5)\n",
    "clean_6C6 = preprocessText(text_6C6)\n",
    "clean_6C7 = preprocessText(text_6C7)\n",
    "clean_6C8 = preprocessText(text_6C8)\n",
    "clean_6C9 = preprocessText(text_6C9)\n",
    "clean_6C10 = preprocessText(text_6C10)\n",
    "clean_6C11 = preprocessText(text_6C11)\n",
    "clean_6C12 = preprocessText(text_6C12)\n",
    "clean_6C13 = preprocessText(text_6C13)"
   ]
  },
  {
   "cell_type": "code",
   "execution_count": 257,
   "metadata": {},
   "outputs": [],
   "source": [
    "book_6_cl_doc = [clean_6C1, clean_6C2, clean_6C3, clean_6C4, clean_6C5, clean_6C6, clean_6C7, \n",
    "                 clean_6C8,clean_6C9, clean_6C10, clean_6C11, clean_6C12, clean_6C13]"
   ]
  },
  {
   "cell_type": "code",
   "execution_count": 258,
   "metadata": {},
   "outputs": [],
   "source": [
    "clean_book_6=pd.DataFrame({'title':'the_crystal_stopper',\n",
    "                           'chapter':['01', '02','03', '04', '05', '06', '07',\n",
    "                                      '08','09','10','11', '12','13'],\n",
    "                           'text':book_6_cl_doc})\n",
    "clean_book_6.to_csv('data/clean_book_6.csv')"
   ]
  },
  {
   "cell_type": "markdown",
   "metadata": {},
   "source": [
    "### Book 7: The Confessions of Arsène Lupin"
   ]
  },
  {
   "cell_type": "code",
   "execution_count": 259,
   "metadata": {},
   "outputs": [],
   "source": [
    "clean_text_7 = preprocessText(text_7)"
   ]
  },
  {
   "cell_type": "code",
   "execution_count": 260,
   "metadata": {},
   "outputs": [],
   "source": [
    "clean_7C1 = preprocessText(text_7C1)\n",
    "clean_7C2 = preprocessText(text_7C2)\n",
    "clean_7C3 = preprocessText(text_7C3)\n",
    "clean_7C4 = preprocessText(text_7C4)\n",
    "clean_7C5 = preprocessText(text_7C5)\n",
    "clean_7C6 = preprocessText(text_7C6)\n",
    "clean_7C7 = preprocessText(text_7C7)\n",
    "clean_7C8 = preprocessText(text_7C8)\n",
    "clean_7C9 = preprocessText(text_7C9)\n",
    "clean_7C10 = preprocessText(text_7C10)"
   ]
  },
  {
   "cell_type": "code",
   "execution_count": 261,
   "metadata": {},
   "outputs": [],
   "source": [
    "book_7_cl_doc = [clean_7C1, clean_7C2, clean_7C3, clean_7C4, clean_7C5,\n",
    "                 clean_7C6, clean_7C7, clean_7C8, clean_7C9, clean_7C10]"
   ]
  },
  {
   "cell_type": "code",
   "execution_count": 262,
   "metadata": {},
   "outputs": [],
   "source": [
    "clean_book_7=pd.DataFrame({'title':'the_confessions_of_arsene_lupin',\n",
    "                           'chapter':['01', '02','03', '04', '05', '06', '07',\n",
    "                                      '08', '09','10'],\n",
    "                           'text':book_7_cl_doc})\n",
    "clean_book_7.to_csv('data/clean_book_7.csv')"
   ]
  },
  {
   "cell_type": "markdown",
   "metadata": {},
   "source": [
    "### Book 8: The Teeth of The Tiger"
   ]
  },
  {
   "cell_type": "code",
   "execution_count": 263,
   "metadata": {},
   "outputs": [],
   "source": [
    "clean_text_8 = preprocessText(text_8)"
   ]
  },
  {
   "cell_type": "markdown",
   "metadata": {},
   "source": [
    "### Book 9: The Woman of Mistery"
   ]
  },
  {
   "cell_type": "code",
   "execution_count": 264,
   "metadata": {},
   "outputs": [],
   "source": [
    "clean_text_9 = preprocessText(text_9)"
   ]
  },
  {
   "cell_type": "markdown",
   "metadata": {},
   "source": [
    "### Book 10: The Double Life of Arsène Lupin"
   ]
  },
  {
   "cell_type": "code",
   "execution_count": 265,
   "metadata": {},
   "outputs": [],
   "source": [
    "clean_text_10 = preprocessText(text_10)"
   ]
  },
  {
   "cell_type": "code",
   "execution_count": 266,
   "metadata": {},
   "outputs": [],
   "source": [
    "clean_10C1 = preprocessText(text_10C1)\n",
    "clean_10C2 = preprocessText(text_10C2)\n",
    "clean_10C3 = preprocessText(text_10C3)\n",
    "clean_10C4 = preprocessText(text_10C4)\n",
    "clean_10C5 = preprocessText(text_10C5)\n",
    "clean_10C6 = preprocessText(text_10C6)\n",
    "clean_10C7 = preprocessText(text_10C7)\n",
    "clean_10C8 = preprocessText(text_10C8)\n",
    "clean_10C9 = preprocessText(text_10C9)\n",
    "clean_10C10 = preprocessText(text_10C10)\n",
    "clean_10C11 = preprocessText(text_10C11)\n",
    "clean_10C12 = preprocessText(text_10C12)\n",
    "clean_10C13 = preprocessText(text_10C13)\n",
    "clean_10C14 = preprocessText(text_10C14)\n",
    "clean_10C15 = preprocessText(text_10C15)\n",
    "clean_10C16 = preprocessText(text_10C16)"
   ]
  },
  {
   "cell_type": "code",
   "execution_count": 267,
   "metadata": {},
   "outputs": [],
   "source": [
    "book_10_cl_doc = [clean_10C1, clean_10C2, clean_10C3, clean_10C4, clean_10C5, clean_10C6, clean_10C7, clean_10C8,\n",
    "                 clean_10C9, clean_10C10, clean_10C11, clean_10C12, clean_10C13, clean_10C14, clean_10C15, clean_10C16]"
   ]
  },
  {
   "cell_type": "code",
   "execution_count": 268,
   "metadata": {},
   "outputs": [],
   "source": [
    "clean_book_10=pd.DataFrame({'title':'the_double_life_of_arsene_lupin',\n",
    "                           'chapter':['01', '02','03', '04', '05', '06', '07','08',\n",
    "                                      '09','10','11', '12','13', '14', '15', '16'],\n",
    "                           'text':book_10_cl_doc})\n",
    "clean_book_10.to_csv('data/clean_book_10.csv')"
   ]
  },
  {
   "cell_type": "markdown",
   "metadata": {},
   "source": [
    "### Book 11: The Secret of Sarek"
   ]
  },
  {
   "cell_type": "code",
   "execution_count": 269,
   "metadata": {},
   "outputs": [],
   "source": [
    "clean_text_11 = preprocessText(text_11)"
   ]
  },
  {
   "cell_type": "code",
   "execution_count": 270,
   "metadata": {},
   "outputs": [],
   "source": [
    "clean_11C1 = preprocessText(text_11C1)\n",
    "clean_11C2 = preprocessText(text_11C2)\n",
    "clean_11C3 = preprocessText(text_11C3)\n",
    "clean_11C4 = preprocessText(text_11C4)\n",
    "clean_11C5 = preprocessText(text_11C5)\n",
    "clean_11C6 = preprocessText(text_11C6)\n",
    "clean_11C7 = preprocessText(text_11C7)\n",
    "clean_11C8 = preprocessText(text_11C8)\n",
    "clean_11C9 = preprocessText(text_11C9)\n",
    "clean_11C10 = preprocessText(text_11C10)\n",
    "clean_11C11 = preprocessText(text_11C11)\n",
    "clean_11C12 = preprocessText(text_11C12)\n",
    "clean_11C13 = preprocessText(text_11C13)\n",
    "clean_11C14 = preprocessText(text_11C14)\n",
    "clean_11C15 = preprocessText(text_11C15)\n",
    "clean_11C16 = preprocessText(text_11C16)\n",
    "clean_11C17 = preprocessText(text_11C17)\n",
    "clean_11C18 = preprocessText(text_11C18)"
   ]
  },
  {
   "cell_type": "code",
   "execution_count": 271,
   "metadata": {},
   "outputs": [],
   "source": [
    "book_11_cl_doc = [clean_11C1, clean_11C2, clean_11C3, clean_11C4, clean_11C5, clean_11C6,\n",
    "                  clean_11C7, clean_11C8,clean_11C9, clean_11C10, clean_11C11, clean_11C12,\n",
    "                  clean_11C13, clean_11C14, clean_11C15, clean_11C16, clean_11C17, clean_11C18]"
   ]
  },
  {
   "cell_type": "code",
   "execution_count": 272,
   "metadata": {},
   "outputs": [],
   "source": [
    "clean_book_11=pd.DataFrame({'title':'the_secret_of_sarek',\n",
    "                           'chapter':['01', '02','03', '04', '05', '06', '07','08','09',\n",
    "                                      '10','11', '12','13', '14', '15', '16', '17','18'],\n",
    "                           'text':book_11_cl_doc})\n",
    "clean_book_11.to_csv('data/clean_book_11.csv')"
   ]
  },
  {
   "cell_type": "markdown",
   "metadata": {},
   "source": [
    "### Book 12: The Three Eyes"
   ]
  },
  {
   "cell_type": "code",
   "execution_count": 273,
   "metadata": {},
   "outputs": [],
   "source": [
    "clean_text_12 = preprocessText(text_12)"
   ]
  },
  {
   "cell_type": "markdown",
   "metadata": {},
   "source": [
    "### Book 13: The Tremendous Event"
   ]
  },
  {
   "cell_type": "code",
   "execution_count": 274,
   "metadata": {},
   "outputs": [],
   "source": [
    "clean_text_13 = preprocessText(text_13)"
   ]
  },
  {
   "cell_type": "markdown",
   "metadata": {},
   "source": [
    "### Book 14: The Eight Strokes of The Clock"
   ]
  },
  {
   "cell_type": "code",
   "execution_count": 275,
   "metadata": {},
   "outputs": [],
   "source": [
    "clean_text_14 = preprocessText(text_14)"
   ]
  },
  {
   "cell_type": "markdown",
   "metadata": {},
   "source": [
    "### Book 15: The Secret Tombe"
   ]
  },
  {
   "cell_type": "code",
   "execution_count": 276,
   "metadata": {},
   "outputs": [],
   "source": [
    "clean_text_15 = preprocessText(text_15)"
   ]
  },
  {
   "cell_type": "code",
   "execution_count": 277,
   "metadata": {},
   "outputs": [],
   "source": [
    "clean_15C1 = preprocessText(text_15C1)\n",
    "clean_15C2 = preprocessText(text_15C2)\n",
    "clean_15C3 = preprocessText(text_15C3)\n",
    "clean_15C4 = preprocessText(text_15C4)\n",
    "clean_15C5 = preprocessText(text_15C5)\n",
    "clean_15C6 = preprocessText(text_15C6)\n",
    "clean_15C7 = preprocessText(text_15C7)\n",
    "clean_15C8 = preprocessText(text_15C8)\n",
    "clean_15C9 = preprocessText(text_15C9)\n",
    "clean_15C10 = preprocessText(text_15C10)\n",
    "clean_15C11 = preprocessText(text_15C11)\n",
    "clean_15C12 = preprocessText(text_15C12)\n",
    "clean_15C13 = preprocessText(text_15C13)\n",
    "clean_15C14 = preprocessText(text_15C14)\n",
    "clean_15C15 = preprocessText(text_15C15)\n",
    "clean_15C16 = preprocessText(text_15C16)\n",
    "clean_15C17 = preprocessText(text_15C17)\n",
    "clean_15C18 = preprocessText(text_15C18)"
   ]
  },
  {
   "cell_type": "code",
   "execution_count": 278,
   "metadata": {},
   "outputs": [],
   "source": [
    "book_15_cl_doc = [clean_15C1, clean_15C2, clean_15C3, clean_15C4, clean_15C5, clean_15C6,\n",
    "                 clean_15C7, clean_15C8,clean_15C9, clean_15C10, clean_15C11, clean_15C12,\n",
    "                 clean_15C13, clean_15C14, clean_15C15, clean_15C16, clean_15C17, clean_15C18]"
   ]
  },
  {
   "cell_type": "code",
   "execution_count": 279,
   "metadata": {},
   "outputs": [],
   "source": [
    "clean_book_15=pd.DataFrame({'title':'the_secret_tombe',\n",
    "                           'chapter':['01', '02','03', '04', '05', '06', '07','08','09',\n",
    "                                      '10','11', '12','13', '14', '15', '16', '17','18'],\n",
    "                           'text':book_15_cl_doc})\n",
    "clean_book_15.to_csv('data/clean_book_15.csv')"
   ]
  },
  {
   "cell_type": "markdown",
   "metadata": {},
   "source": [
    "### Book 16: The Return of Arsène Lupin"
   ]
  },
  {
   "cell_type": "code",
   "execution_count": 280,
   "metadata": {},
   "outputs": [],
   "source": [
    "clean_text_16 = preprocessText(text_16)"
   ]
  },
  {
   "cell_type": "code",
   "execution_count": 281,
   "metadata": {},
   "outputs": [],
   "source": [
    "clean_16C1 = preprocessText(text_16C1)\n",
    "clean_16C2 = preprocessText(text_16C2)\n",
    "clean_16C3 = preprocessText(text_16C3)\n",
    "clean_16C4 = preprocessText(text_16C4)\n",
    "clean_16C5 = preprocessText(text_16C5)\n",
    "clean_16C6 = preprocessText(text_16C6)\n",
    "clean_16C7 = preprocessText(text_16C7)\n",
    "clean_16C8 = preprocessText(text_16C8)\n",
    "clean_16C9 = preprocessText(text_16C9)\n",
    "clean_16C10 = preprocessText(text_16C10)\n",
    "clean_16C11 = preprocessText(text_16C11)\n",
    "clean_16C12 = preprocessText(text_16C12)\n",
    "clean_16C13 = preprocessText(text_16C13)\n",
    "clean_16C14 = preprocessText(text_16C14)\n",
    "clean_16C15 = preprocessText(text_16C15)\n",
    "clean_16C16 = preprocessText(text_16C16)\n",
    "clean_16C17 = preprocessText(text_16C17)\n",
    "clean_16C18 = preprocessText(text_16C18)\n",
    "clean_16C19 = preprocessText(text_16C19)"
   ]
  },
  {
   "cell_type": "code",
   "execution_count": 282,
   "metadata": {},
   "outputs": [],
   "source": [
    "book_16_cl_doc = [clean_16C1, clean_16C2, clean_16C3, clean_16C4, clean_16C5, clean_16C6, clean_16C7, clean_16C8,\n",
    "                 clean_16C9, clean_16C10, clean_16C11, clean_16C12, clean_16C13, clean_16C14, clean_16C15, \n",
    "                 clean_16C16,clean_16C17, clean_16C18,clean_16C19]"
   ]
  },
  {
   "cell_type": "code",
   "execution_count": 283,
   "metadata": {},
   "outputs": [],
   "source": [
    "clean_book_16=pd.DataFrame({'title':'the_return_of_arsene_lupin',\n",
    "                           'chapter':['01', '02','03', '04', '05', '06', '07','08','09','10',\n",
    "                                      '11', '12','13', '14', '15', '16', '17','18','19'],\n",
    "                           'text':book_16_cl_doc})\n",
    "clean_book_16.to_csv('data/clean_book_16.csv')"
   ]
  },
  {
   "cell_type": "markdown",
   "metadata": {},
   "source": [
    "### Bundle of 10 Books"
   ]
  },
  {
   "cell_type": "code",
   "execution_count": 284,
   "metadata": {},
   "outputs": [],
   "source": [
    "frame = [clean_book_1, clean_book_2, clean_book_3, clean_book_4, clean_book_6,\n",
    "         clean_book_7, clean_book_10, clean_book_11, clean_book_15, clean_book_16]"
   ]
  },
  {
   "cell_type": "code",
   "execution_count": 285,
   "metadata": {},
   "outputs": [],
   "source": [
    "clean_ten_books = pd.concat(frame)"
   ]
  },
  {
   "cell_type": "code",
   "execution_count": 286,
   "metadata": {},
   "outputs": [],
   "source": [
    "clean_ten_books.to_csv('data/clean_ten_books.csv')"
   ]
  },
  {
   "cell_type": "code",
   "execution_count": 287,
   "metadata": {},
   "outputs": [
    {
     "data": {
      "text/html": [
       "<div>\n",
       "<style scoped>\n",
       "    .dataframe tbody tr th:only-of-type {\n",
       "        vertical-align: middle;\n",
       "    }\n",
       "\n",
       "    .dataframe tbody tr th {\n",
       "        vertical-align: top;\n",
       "    }\n",
       "\n",
       "    .dataframe thead th {\n",
       "        text-align: right;\n",
       "    }\n",
       "</style>\n",
       "<table border=\"1\" class=\"dataframe\">\n",
       "  <thead>\n",
       "    <tr style=\"text-align: right;\">\n",
       "      <th></th>\n",
       "      <th>title</th>\n",
       "      <th>chapter</th>\n",
       "      <th>text</th>\n",
       "    </tr>\n",
       "  </thead>\n",
       "  <tbody>\n",
       "    <tr>\n",
       "      <th>0</th>\n",
       "      <td>gentleman_burglar</td>\n",
       "      <td>01</td>\n",
       "      <td>i the arrest of arsene lupin it was a strange ...</td>\n",
       "    </tr>\n",
       "    <tr>\n",
       "      <th>1</th>\n",
       "      <td>gentleman_burglar</td>\n",
       "      <td>02</td>\n",
       "      <td>ii arsene lupin in prison there is no tourist ...</td>\n",
       "    </tr>\n",
       "    <tr>\n",
       "      <th>2</th>\n",
       "      <td>gentleman_burglar</td>\n",
       "      <td>03</td>\n",
       "      <td>iii the escape of arsene lupin arsene lupin ha...</td>\n",
       "    </tr>\n",
       "    <tr>\n",
       "      <th>3</th>\n",
       "      <td>gentleman_burglar</td>\n",
       "      <td>04</td>\n",
       "      <td>iv the mysterious traveller the evening before...</td>\n",
       "    </tr>\n",
       "    <tr>\n",
       "      <th>4</th>\n",
       "      <td>gentleman_burglar</td>\n",
       "      <td>05</td>\n",
       "      <td>v the queen s necklace two or three times each...</td>\n",
       "    </tr>\n",
       "  </tbody>\n",
       "</table>\n",
       "</div>"
      ],
      "text/plain": [
       "               title chapter  \\\n",
       "0  gentleman_burglar      01   \n",
       "1  gentleman_burglar      02   \n",
       "2  gentleman_burglar      03   \n",
       "3  gentleman_burglar      04   \n",
       "4  gentleman_burglar      05   \n",
       "\n",
       "                                                text  \n",
       "0  i the arrest of arsene lupin it was a strange ...  \n",
       "1  ii arsene lupin in prison there is no tourist ...  \n",
       "2  iii the escape of arsene lupin arsene lupin ha...  \n",
       "3  iv the mysterious traveller the evening before...  \n",
       "4  v the queen s necklace two or three times each...  "
      ]
     },
     "execution_count": 287,
     "metadata": {},
     "output_type": "execute_result"
    }
   ],
   "source": [
    "clean_ten_books.head()"
   ]
  }
 ],
 "metadata": {
  "kernelspec": {
   "display_name": "Python 3",
   "language": "python",
   "name": "python3"
  },
  "language_info": {
   "codemirror_mode": {
    "name": "ipython",
    "version": 3
   },
   "file_extension": ".py",
   "mimetype": "text/x-python",
   "name": "python",
   "nbconvert_exporter": "python",
   "pygments_lexer": "ipython3",
   "version": "3.8.3"
  }
 },
 "nbformat": 4,
 "nbformat_minor": 4
}
